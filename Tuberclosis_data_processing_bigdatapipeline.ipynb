{
 "cells": [
  {
   "cell_type": "markdown",
   "id": "46d45819",
   "metadata": {},
   "source": [
    "## Importing basic libraries to use pyspark in jupyter notebook"
   ]
  },
  {
   "cell_type": "code",
   "execution_count": 1,
   "id": "9785a3f4",
   "metadata": {},
   "outputs": [],
   "source": [
    "\n",
    "from pyspark.sql import SparkSession\n",
    "import pandas as pd\n",
    "from pyspark.sql.functions import col"
   ]
  },
  {
   "cell_type": "markdown",
   "id": "dc4ed0d7",
   "metadata": {},
   "source": [
    "## Initializing spark session to connect to hdfs as well as hive"
   ]
  },
  {
   "cell_type": "code",
   "execution_count": 2,
   "id": "d2b29000",
   "metadata": {},
   "outputs": [
    {
     "name": "stderr",
     "output_type": "stream",
     "text": [
      "2024-09-15 14:27:39,707 WARN util.Utils: Your hostname, localhost.localdomain resolves to a loopback address: 127.0.0.1; using 10.0.2.15 instead (on interface enp0s3)\n",
      "2024-09-15 14:27:39,709 WARN util.Utils: Set SPARK_LOCAL_IP if you need to bind to another address\n",
      "2024-09-15 14:27:40,119 WARN util.NativeCodeLoader: Unable to load native-hadoop library for your platform... using builtin-java classes where applicable\n",
      "Setting default log level to \"WARN\".\n",
      "To adjust logging level use sc.setLogLevel(newLevel). For SparkR, use setLogLevel(newLevel).\n"
     ]
    }
   ],
   "source": [
    "spark = SparkSession.builder \\\n",
    "    .enableHiveSupport() \\\n",
    "    .appName(\"HDFS to Jupyter\") \\\n",
    "    .getOrCreate()"
   ]
  },
  {
   "cell_type": "markdown",
   "id": "3c375c29",
   "metadata": {},
   "source": [
    "## Importing the csv file located at hdfs's dfs into notebook for data cleaning and exploration"
   ]
  },
  {
   "cell_type": "code",
   "execution_count": 3,
   "id": "ac35408e",
   "metadata": {},
   "outputs": [
    {
     "name": "stderr",
     "output_type": "stream",
     "text": [
      "                                                                                \r"
     ]
    }
   ],
   "source": [
    "df1 = spark.read.csv(\"hdfs://localhost:9000/user/hadoop/mtb_data/events.1724437428393\", header=True, inferSchema=True)"
   ]
  },
  {
   "cell_type": "code",
   "execution_count": 4,
   "id": "ac20aa44",
   "metadata": {},
   "outputs": [
    {
     "data": {
      "text/plain": [
       "<bound method DataFrame.head of DataFrame[Event: string, Program stage: string, Test Date: string, Stored by: string, Created by: string, Last updated by: string, Last updated on: string, Scheduled date: string, Enrollment date: string, Incident date: string, Tracked entity instance: string, Program instance: string, Geometry: string, Longitude: double, Latitude: double, Organisation unit name: string, Organisation unit name hierarchy: string, Organisation unit code: string, Program status: string, Event status: string, Organisation unit: string, Test Requested: string, Ward Number: int, District: string, Sex: string, GeneXpert Test Result: string, Municipality: string, Patient ID: int, Age: string]>"
      ]
     },
     "execution_count": 4,
     "metadata": {},
     "output_type": "execute_result"
    }
   ],
   "source": [
    "df1.head"
   ]
  },
  {
   "cell_type": "markdown",
   "id": "18bff7f9",
   "metadata": {},
   "source": [
    "## Dropping unnecessary columns that don't hold value to this project"
   ]
  },
  {
   "cell_type": "code",
   "execution_count": 5,
   "id": "671d0ac5",
   "metadata": {},
   "outputs": [],
   "source": [
    "df1 = df1.drop('Program stage','Test Date',\"Event\", \"Stored by\", \"Created by\", \n",
    " \"Last updated on\", \"Scheduled date\", \"Incident date\",\"Tracked entity instance\", \n",
    "\"Program instance\", \"Geometry\", \"Longitude\", \"Latitude\", \n",
    "\"Program status\", \"Event status\",\"Test Requested\")"
   ]
  },
  {
   "cell_type": "markdown",
   "id": "fd2d9f60",
   "metadata": {},
   "source": [
    "## Renaming all the columns into standard format "
   ]
  },
  {
   "cell_type": "code",
   "execution_count": 6,
   "id": "2c9c0ae3",
   "metadata": {},
   "outputs": [],
   "source": [
    "new_column_names = {\n",
    "    'Last updated by': 'last_updated_by',\n",
    "    'Enrollment date': 'enrollment_date',\n",
    "    'Organisation unit name': 'organisation_unit_name',\n",
    "    'Organisation unit name hierarchy': 'organisation_unit_name_hierarchy',\n",
    "    'Organisation unit code': 'organisation_unit_code',\n",
    "    'Organisation unit': 'organisation_unit',\n",
    "    'Ward Number': 'ward_number',\n",
    "    'District': 'district',\n",
    "    'Sex': 'sex',\n",
    "    'GeneXpert Test Result': 'genexpert_test_result',\n",
    "    'Municipality': 'municipality',\n",
    "    'Patient ID': 'patient_id',\n",
    "    'Age': 'age'\n",
    "}\n",
    "\n",
    "# Rename columns using the dictionary\n",
    "for old_name, new_name in new_column_names.items():\n",
    "    df1 = df1.withColumnRenamed(old_name, new_name)\n"
   ]
  },
  {
   "cell_type": "markdown",
   "id": "b5b11268",
   "metadata": {},
   "source": [
    "## Converting pyspark dataframe into pandas dataframe for further cleaning and exploration"
   ]
  },
  {
   "cell_type": "code",
   "execution_count": 7,
   "id": "5d027bac",
   "metadata": {
    "scrolled": true
   },
   "outputs": [
    {
     "name": "stderr",
     "output_type": "stream",
     "text": [
      "                                                                                \r"
     ]
    }
   ],
   "source": [
    "df = df1.toPandas()\n"
   ]
  },
  {
   "cell_type": "code",
   "execution_count": 8,
   "id": "b58bce0d",
   "metadata": {
    "scrolled": true
   },
   "outputs": [
    {
     "data": {
      "text/html": [
       "<div>\n",
       "<style scoped>\n",
       "    .dataframe tbody tr th:only-of-type {\n",
       "        vertical-align: middle;\n",
       "    }\n",
       "\n",
       "    .dataframe tbody tr th {\n",
       "        vertical-align: top;\n",
       "    }\n",
       "\n",
       "    .dataframe thead th {\n",
       "        text-align: right;\n",
       "    }\n",
       "</style>\n",
       "<table border=\"1\" class=\"dataframe\">\n",
       "  <thead>\n",
       "    <tr style=\"text-align: right;\">\n",
       "      <th></th>\n",
       "      <th>last_updated_by</th>\n",
       "      <th>enrollment_date</th>\n",
       "      <th>organisation_unit_name</th>\n",
       "      <th>organisation_unit_name_hierarchy</th>\n",
       "      <th>organisation_unit_code</th>\n",
       "      <th>organisation_unit</th>\n",
       "      <th>ward_number</th>\n",
       "      <th>district</th>\n",
       "      <th>sex</th>\n",
       "      <th>genexpert_test_result</th>\n",
       "      <th>municipality</th>\n",
       "      <th>patient_id</th>\n",
       "      <th>age</th>\n",
       "    </tr>\n",
       "  </thead>\n",
       "  <tbody>\n",
       "    <tr>\n",
       "      <th>0</th>\n",
       "      <td>Lumbini Medical College, Palpa_LAB (lmcp.lab)</td>\n",
       "      <td>2020-11-23 00:00:00.0</td>\n",
       "      <td>LUMBINI MEDICAL COLLEGE_PALPA</td>\n",
       "      <td>Nepal / 5 Lumbini Province / 506 PALPA / 50605...</td>\n",
       "      <td>14076</td>\n",
       "      <td>R0g8PTLzqmq</td>\n",
       "      <td>1.0</td>\n",
       "      <td>PALPA</td>\n",
       "      <td>Male</td>\n",
       "      <td>Rif Resistance DETECTED</td>\n",
       "      <td>50602 Purbakhola Rural Municipality</td>\n",
       "      <td>677367</td>\n",
       "      <td>45 to 54</td>\n",
       "    </tr>\n",
       "    <tr>\n",
       "      <th>1</th>\n",
       "      <td>Prithivi Chandra Hospital, Nawalparasi_LAB (pc...</td>\n",
       "      <td>2020-12-01 00:00:00.0</td>\n",
       "      <td>PRITHIV CHANDRA HOSPITAL_ NAWALPARASI</td>\n",
       "      <td>Nepal / 5 Lumbini Province / 507 NAWALPARASI W...</td>\n",
       "      <td>13872</td>\n",
       "      <td>e8msu3rYPr7</td>\n",
       "      <td>2.0</td>\n",
       "      <td>NAWALPARASI EAST</td>\n",
       "      <td>Male</td>\n",
       "      <td>Rif Resistance NOT DETECTED</td>\n",
       "      <td>50706 Pratapapur Rural Municipality</td>\n",
       "      <td>354769</td>\n",
       "      <td>35 to 44</td>\n",
       "    </tr>\n",
       "    <tr>\n",
       "      <th>2</th>\n",
       "      <td>NTC, Lab (ntc.lab1)</td>\n",
       "      <td>2020-06-24 00:00:00.0</td>\n",
       "      <td>NATIONAL TUBERCULOSIS CONTROL CENTRE_BHAKTAPUR</td>\n",
       "      <td>Nepal / 3 Bagmati Province / 307 BHAKTAPUR / 3...</td>\n",
       "      <td>11163</td>\n",
       "      <td>DAj3sgOnbDt</td>\n",
       "      <td>10.0</td>\n",
       "      <td>KATHMANDU</td>\n",
       "      <td>Female</td>\n",
       "      <td>Rif Resistance NOT DETECTED</td>\n",
       "      <td>None</td>\n",
       "      <td>8800886</td>\n",
       "      <td>25 to 34</td>\n",
       "    </tr>\n",
       "    <tr>\n",
       "      <th>3</th>\n",
       "      <td>MADHYABINDU DISTRICT HOSPITAL, NAWALPARASI_LAB...</td>\n",
       "      <td>2022-01-03 00:00:00.0</td>\n",
       "      <td>MIDPOINT DISTRICT HOSPITAL_NAWALPARASI EAST</td>\n",
       "      <td>Nepal / 4 Gandaki Province / 408 NAWALPARASI E...</td>\n",
       "      <td>13856</td>\n",
       "      <td>UPxxC2e48GJ</td>\n",
       "      <td>NaN</td>\n",
       "      <td>NAWALPARASI EAST</td>\n",
       "      <td>Female</td>\n",
       "      <td>MTB NOT DETECTED</td>\n",
       "      <td>None</td>\n",
       "      <td>3740427</td>\n",
       "      <td>45 to 54</td>\n",
       "    </tr>\n",
       "    <tr>\n",
       "      <th>4</th>\n",
       "      <td>DISTRICT HOSPITAL_ UDAYAPUR, DISTRICT HOSPITAL...</td>\n",
       "      <td>2020-09-24 00:00:00.0</td>\n",
       "      <td>DISTRICT HOSPITAL_ UDAYAPUR</td>\n",
       "      <td>Nepal / 1 Koshi Province / 114 UDAYAPUR / 1140...</td>\n",
       "      <td>15722</td>\n",
       "      <td>M0h4xQCnr5Q</td>\n",
       "      <td>13.0</td>\n",
       "      <td>UDAYAPUR</td>\n",
       "      <td>Male</td>\n",
       "      <td>MTB NOT DETECTED</td>\n",
       "      <td>11403 Triyuga Municipality</td>\n",
       "      <td>3404379</td>\n",
       "      <td>35 to 44</td>\n",
       "    </tr>\n",
       "    <tr>\n",
       "      <th>...</th>\n",
       "      <td>...</td>\n",
       "      <td>...</td>\n",
       "      <td>...</td>\n",
       "      <td>...</td>\n",
       "      <td>...</td>\n",
       "      <td>...</td>\n",
       "      <td>...</td>\n",
       "      <td>...</td>\n",
       "      <td>...</td>\n",
       "      <td>...</td>\n",
       "      <td>...</td>\n",
       "      <td>...</td>\n",
       "      <td>...</td>\n",
       "    </tr>\n",
       "    <tr>\n",
       "      <th>99995</th>\n",
       "      <td>DAMAULI  HOSPITAL, TANAHU_LAB (ddht.lab)</td>\n",
       "      <td>2022-03-04 00:00:00.0</td>\n",
       "      <td>DAMAULI DISTRICT HOSPITAL_ TANAHU</td>\n",
       "      <td>Nepal / 4 Gandaki Province / 407 TANAHU / 4070...</td>\n",
       "      <td>15578</td>\n",
       "      <td>StYGSnQkGYd</td>\n",
       "      <td>6.0</td>\n",
       "      <td>TANAHU</td>\n",
       "      <td>Male</td>\n",
       "      <td>MTB NOT DETECTED</td>\n",
       "      <td>40709 Bandipur Rural Municipality</td>\n",
       "      <td>5539227</td>\n",
       "      <td>15 to 24</td>\n",
       "    </tr>\n",
       "    <tr>\n",
       "      <th>99996</th>\n",
       "      <td>DISTRICT HOSPITAL_ DOTI, DISTRICT HOSPITAL_ DO...</td>\n",
       "      <td>2022-03-01 00:00:00.0</td>\n",
       "      <td>DISTRICT HOSPITAL_ DOTI</td>\n",
       "      <td>Nepal / 7 Sudurpashchim Province / 706 DOTI / ...</td>\n",
       "      <td>11854</td>\n",
       "      <td>xQ9yCoUNMvb</td>\n",
       "      <td>8.0</td>\n",
       "      <td>DOTI</td>\n",
       "      <td>Female</td>\n",
       "      <td>MTB NOT DETECTED</td>\n",
       "      <td>70604 Shikhar Municipality</td>\n",
       "      <td>8616709</td>\n",
       "      <td>65+</td>\n",
       "    </tr>\n",
       "    <tr>\n",
       "      <th>99997</th>\n",
       "      <td>DISTRICT HOSPITAL_ DOTI, DISTRICT HOSPITAL_ DO...</td>\n",
       "      <td>2022-03-02 00:00:00.0</td>\n",
       "      <td>DISTRICT HOSPITAL_ DOTI</td>\n",
       "      <td>Nepal / 7 Sudurpashchim Province / 706 DOTI / ...</td>\n",
       "      <td>11854</td>\n",
       "      <td>xQ9yCoUNMvb</td>\n",
       "      <td>5.0</td>\n",
       "      <td>DOTI</td>\n",
       "      <td>Female</td>\n",
       "      <td>MTB NOT DETECTED</td>\n",
       "      <td>70602 Sayal Rural Municipality</td>\n",
       "      <td>462914</td>\n",
       "      <td>15 to 24</td>\n",
       "    </tr>\n",
       "    <tr>\n",
       "      <th>99998</th>\n",
       "      <td>Tuberculosis Treatment Center,Pokhara, Pokhara...</td>\n",
       "      <td>2022-03-04 00:00:00.0</td>\n",
       "      <td>TUBERCULOSIS TREATMENT CENTER_POKHARA</td>\n",
       "      <td>Nepal / 4 Gandaki Province / 405 KASKI / 40504...</td>\n",
       "      <td>15903</td>\n",
       "      <td>gC0JprggWan</td>\n",
       "      <td>10.0</td>\n",
       "      <td>KASKI</td>\n",
       "      <td>Female</td>\n",
       "      <td>MTB NOT DETECTED</td>\n",
       "      <td>40504 Pokhara Metropolitan City</td>\n",
       "      <td>121239</td>\n",
       "      <td>65+</td>\n",
       "    </tr>\n",
       "    <tr>\n",
       "      <th>99999</th>\n",
       "      <td>HEALTH OFFICE CHITWAN, DPHO Chitwan LAB (dphob...</td>\n",
       "      <td>2022-03-04 00:00:00.0</td>\n",
       "      <td>DHO_CHITWAN</td>\n",
       "      <td>Nepal / 3 Bagmati Province / 313 CHITAWAN / 31...</td>\n",
       "      <td>None</td>\n",
       "      <td>RkJk6NFBjvs</td>\n",
       "      <td>2.0</td>\n",
       "      <td>RAMECHHAP</td>\n",
       "      <td>Female</td>\n",
       "      <td>MTB NOT DETECTED</td>\n",
       "      <td>31004 Ramechhap Municipality</td>\n",
       "      <td>8605305</td>\n",
       "      <td>35 to 44</td>\n",
       "    </tr>\n",
       "  </tbody>\n",
       "</table>\n",
       "<p>100000 rows × 13 columns</p>\n",
       "</div>"
      ],
      "text/plain": [
       "                                         last_updated_by  \\\n",
       "0          Lumbini Medical College, Palpa_LAB (lmcp.lab)   \n",
       "1      Prithivi Chandra Hospital, Nawalparasi_LAB (pc...   \n",
       "2                                    NTC, Lab (ntc.lab1)   \n",
       "3      MADHYABINDU DISTRICT HOSPITAL, NAWALPARASI_LAB...   \n",
       "4      DISTRICT HOSPITAL_ UDAYAPUR, DISTRICT HOSPITAL...   \n",
       "...                                                  ...   \n",
       "99995           DAMAULI  HOSPITAL, TANAHU_LAB (ddht.lab)   \n",
       "99996  DISTRICT HOSPITAL_ DOTI, DISTRICT HOSPITAL_ DO...   \n",
       "99997  DISTRICT HOSPITAL_ DOTI, DISTRICT HOSPITAL_ DO...   \n",
       "99998  Tuberculosis Treatment Center,Pokhara, Pokhara...   \n",
       "99999  HEALTH OFFICE CHITWAN, DPHO Chitwan LAB (dphob...   \n",
       "\n",
       "             enrollment_date                          organisation_unit_name  \\\n",
       "0      2020-11-23 00:00:00.0                   LUMBINI MEDICAL COLLEGE_PALPA   \n",
       "1      2020-12-01 00:00:00.0           PRITHIV CHANDRA HOSPITAL_ NAWALPARASI   \n",
       "2      2020-06-24 00:00:00.0  NATIONAL TUBERCULOSIS CONTROL CENTRE_BHAKTAPUR   \n",
       "3      2022-01-03 00:00:00.0     MIDPOINT DISTRICT HOSPITAL_NAWALPARASI EAST   \n",
       "4      2020-09-24 00:00:00.0                     DISTRICT HOSPITAL_ UDAYAPUR   \n",
       "...                      ...                                             ...   \n",
       "99995  2022-03-04 00:00:00.0               DAMAULI DISTRICT HOSPITAL_ TANAHU   \n",
       "99996  2022-03-01 00:00:00.0                         DISTRICT HOSPITAL_ DOTI   \n",
       "99997  2022-03-02 00:00:00.0                         DISTRICT HOSPITAL_ DOTI   \n",
       "99998  2022-03-04 00:00:00.0           TUBERCULOSIS TREATMENT CENTER_POKHARA   \n",
       "99999  2022-03-04 00:00:00.0                                     DHO_CHITWAN   \n",
       "\n",
       "                        organisation_unit_name_hierarchy  \\\n",
       "0      Nepal / 5 Lumbini Province / 506 PALPA / 50605...   \n",
       "1      Nepal / 5 Lumbini Province / 507 NAWALPARASI W...   \n",
       "2      Nepal / 3 Bagmati Province / 307 BHAKTAPUR / 3...   \n",
       "3      Nepal / 4 Gandaki Province / 408 NAWALPARASI E...   \n",
       "4      Nepal / 1 Koshi Province / 114 UDAYAPUR / 1140...   \n",
       "...                                                  ...   \n",
       "99995  Nepal / 4 Gandaki Province / 407 TANAHU / 4070...   \n",
       "99996  Nepal / 7 Sudurpashchim Province / 706 DOTI / ...   \n",
       "99997  Nepal / 7 Sudurpashchim Province / 706 DOTI / ...   \n",
       "99998  Nepal / 4 Gandaki Province / 405 KASKI / 40504...   \n",
       "99999  Nepal / 3 Bagmati Province / 313 CHITAWAN / 31...   \n",
       "\n",
       "      organisation_unit_code organisation_unit  ward_number          district  \\\n",
       "0                      14076       R0g8PTLzqmq          1.0             PALPA   \n",
       "1                      13872       e8msu3rYPr7          2.0  NAWALPARASI EAST   \n",
       "2                      11163       DAj3sgOnbDt         10.0         KATHMANDU   \n",
       "3                      13856       UPxxC2e48GJ          NaN  NAWALPARASI EAST   \n",
       "4                      15722       M0h4xQCnr5Q         13.0          UDAYAPUR   \n",
       "...                      ...               ...          ...               ...   \n",
       "99995                  15578       StYGSnQkGYd          6.0            TANAHU   \n",
       "99996                  11854       xQ9yCoUNMvb          8.0              DOTI   \n",
       "99997                  11854       xQ9yCoUNMvb          5.0              DOTI   \n",
       "99998                  15903       gC0JprggWan         10.0             KASKI   \n",
       "99999                   None       RkJk6NFBjvs          2.0         RAMECHHAP   \n",
       "\n",
       "          sex        genexpert_test_result  \\\n",
       "0        Male      Rif Resistance DETECTED   \n",
       "1        Male  Rif Resistance NOT DETECTED   \n",
       "2      Female  Rif Resistance NOT DETECTED   \n",
       "3      Female             MTB NOT DETECTED   \n",
       "4        Male             MTB NOT DETECTED   \n",
       "...       ...                          ...   \n",
       "99995    Male             MTB NOT DETECTED   \n",
       "99996  Female             MTB NOT DETECTED   \n",
       "99997  Female             MTB NOT DETECTED   \n",
       "99998  Female             MTB NOT DETECTED   \n",
       "99999  Female             MTB NOT DETECTED   \n",
       "\n",
       "                              municipality  patient_id       age  \n",
       "0      50602 Purbakhola Rural Municipality      677367  45 to 54  \n",
       "1      50706 Pratapapur Rural Municipality      354769  35 to 44  \n",
       "2                                     None     8800886  25 to 34  \n",
       "3                                     None     3740427  45 to 54  \n",
       "4               11403 Triyuga Municipality     3404379  35 to 44  \n",
       "...                                    ...         ...       ...  \n",
       "99995    40709 Bandipur Rural Municipality     5539227  15 to 24  \n",
       "99996           70604 Shikhar Municipality     8616709       65+  \n",
       "99997       70602 Sayal Rural Municipality      462914  15 to 24  \n",
       "99998      40504 Pokhara Metropolitan City      121239       65+  \n",
       "99999         31004 Ramechhap Municipality     8605305  35 to 44  \n",
       "\n",
       "[100000 rows x 13 columns]"
      ]
     },
     "execution_count": 8,
     "metadata": {},
     "output_type": "execute_result"
    }
   ],
   "source": [
    "df"
   ]
  },
  {
   "cell_type": "code",
   "execution_count": 9,
   "id": "ce2ee8b5",
   "metadata": {
    "scrolled": false
   },
   "outputs": [
    {
     "data": {
      "text/plain": [
       "[('last_updated_by', 'string'),\n",
       " ('enrollment_date', 'string'),\n",
       " ('organisation_unit_name', 'string'),\n",
       " ('organisation_unit_name_hierarchy', 'string'),\n",
       " ('organisation_unit_code', 'string'),\n",
       " ('organisation_unit', 'string'),\n",
       " ('ward_number', 'int'),\n",
       " ('district', 'string'),\n",
       " ('sex', 'string'),\n",
       " ('genexpert_test_result', 'string'),\n",
       " ('municipality', 'string'),\n",
       " ('patient_id', 'int'),\n",
       " ('age', 'string')]"
      ]
     },
     "execution_count": 9,
     "metadata": {},
     "output_type": "execute_result"
    }
   ],
   "source": [
    "df1.dtypes"
   ]
  },
  {
   "cell_type": "code",
   "execution_count": 10,
   "id": "fbe4b9d9",
   "metadata": {},
   "outputs": [
    {
     "name": "stdout",
     "output_type": "stream",
     "text": [
      "(100000, 13)\n"
     ]
    },
    {
     "data": {
      "text/plain": [
       "array(['45 to 54', '35 to 44', '25 to 34', '55 to 64', '0 to 14',\n",
       "       '15 to 24', '65+', None], dtype=object)"
      ]
     },
     "execution_count": 10,
     "metadata": {},
     "output_type": "execute_result"
    }
   ],
   "source": [
    "print(df.shape)\n",
    "df.age.unique()\n"
   ]
  },
  {
   "cell_type": "code",
   "execution_count": 11,
   "id": "b4ef57ff",
   "metadata": {},
   "outputs": [
    {
     "name": "stdout",
     "output_type": "stream",
     "text": [
      "Number of rows: 100000\n",
      "Number of columns: 13\n",
      "Unique ages: ['45 to 54', None, '15 to 24', '0 to 14', '35 to 44', '55 to 64', '65+', '25 to 34']\n"
     ]
    }
   ],
   "source": [
    "# Print the shape of the DataFrame\n",
    "num_rows = df1.count()\n",
    "num_columns = len(df1.columns)\n",
    "print(f\"Number of rows: {num_rows}\")\n",
    "print(f\"Number of columns: {num_columns}\")\n",
    "\n",
    "# Get unique values in the 'age' column\n",
    "unique_ages = df1.select('age').distinct().collect()\n",
    "unique_ages_list = [row['age'] for row in unique_ages]\n",
    "print(\"Unique ages:\", unique_ages_list)"
   ]
  },
  {
   "cell_type": "markdown",
   "id": "982b1052",
   "metadata": {},
   "source": [
    "# Removing rows having None age "
   ]
  },
  {
   "cell_type": "code",
   "execution_count": 12,
   "id": "af13b3f9",
   "metadata": {
    "scrolled": true
   },
   "outputs": [],
   "source": [
    "df = df[df['age'].notna() ]"
   ]
  },
  {
   "cell_type": "code",
   "execution_count": 13,
   "id": "6fbbb774",
   "metadata": {},
   "outputs": [],
   "source": [
    "# Filter out rows where 'age' column is not null\n",
    "df1_filtered = df1.filter(df1['age'].isNotNull())\n"
   ]
  },
  {
   "cell_type": "code",
   "execution_count": 14,
   "id": "e4acb8ac",
   "metadata": {},
   "outputs": [
    {
     "name": "stdout",
     "output_type": "stream",
     "text": [
      "(99829, 13)\n"
     ]
    },
    {
     "data": {
      "text/plain": [
       "array(['45 to 54', '35 to 44', '25 to 34', '55 to 64', '0 to 14',\n",
       "       '15 to 24', '65+'], dtype=object)"
      ]
     },
     "execution_count": 14,
     "metadata": {},
     "output_type": "execute_result"
    }
   ],
   "source": [
    "print(df.shape)\n",
    "df.age.unique()"
   ]
  },
  {
   "cell_type": "code",
   "execution_count": 15,
   "id": "17209944",
   "metadata": {},
   "outputs": [
    {
     "name": "stdout",
     "output_type": "stream",
     "text": [
      "Number of rows: 99829\n",
      "Number of columns: 13\n",
      "Unique ages: ['45 to 54', None, '15 to 24', '0 to 14', '35 to 44', '55 to 64', '65+', '25 to 34']\n"
     ]
    },
    {
     "name": "stderr",
     "output_type": "stream",
     "text": [
      "\r",
      "[Stage 10:=====================================================>(198 + 2) / 200]\r",
      "\r",
      "                                                                                \r"
     ]
    }
   ],
   "source": [
    "# Print the shape of the DataFrame\n",
    "num_rows = df1_filtered.count()\n",
    "num_columns = len(df1.columns)\n",
    "print(f\"Number of rows: {num_rows}\")\n",
    "print(f\"Number of columns: {num_columns}\")\n",
    "# Get unique values in the 'age' column\n",
    "unique_ages = df1.select('age').distinct().collect()\n",
    "unique_ages_list = [row['age'] for row in unique_ages]\n",
    "print(\"Unique ages:\", unique_ages_list)"
   ]
  },
  {
   "cell_type": "markdown",
   "id": "6db0c9c7",
   "metadata": {},
   "source": [
    "## Cleaning NULL values"
   ]
  },
  {
   "cell_type": "code",
   "execution_count": 16,
   "id": "2a877930",
   "metadata": {},
   "outputs": [],
   "source": [
    "df_cleaned = df.dropna(how='any')"
   ]
  },
  {
   "cell_type": "code",
   "execution_count": 17,
   "id": "90bd31e3",
   "metadata": {},
   "outputs": [
    {
     "name": "stdout",
     "output_type": "stream",
     "text": [
      "Number of rows: 22914\n",
      "Number of columns: 13\n"
     ]
    }
   ],
   "source": [
    "df1_filtered = df1_filtered.dropna(how='any')\n",
    "# Print the shape of the DataFrame\n",
    "num_rows = df1_filtered.count()\n",
    "num_columns = len(df1.columns)\n",
    "print(f\"Number of rows: {num_rows}\")\n",
    "print(f\"Number of columns: {num_columns}\")"
   ]
  },
  {
   "cell_type": "code",
   "execution_count": 18,
   "id": "64f34cf0",
   "metadata": {},
   "outputs": [
    {
     "name": "stdout",
     "output_type": "stream",
     "text": [
      "(22914, 13)\n"
     ]
    },
    {
     "data": {
      "text/plain": [
       "array(['Rif Resistance DETECTED', 'Rif Resistance NOT DETECTED',\n",
       "       'MTB NOT DETECTED', 'Error', 'NO RESULT', 'Invalid',\n",
       "       'Rif Indeterminate'], dtype=object)"
      ]
     },
     "execution_count": 18,
     "metadata": {},
     "output_type": "execute_result"
    }
   ],
   "source": [
    "print(df_cleaned.shape)\n",
    "df_cleaned.genexpert_test_result.unique()\n"
   ]
  },
  {
   "cell_type": "code",
   "execution_count": 19,
   "id": "8fd9f13a",
   "metadata": {},
   "outputs": [
    {
     "name": "stdout",
     "output_type": "stream",
     "text": [
      "unique_results: ['MTB NOT DETECTED', 'NO RESULT', 'Rif Resistance DETECTED', 'Invalid', 'Rif Indeterminate', 'Rif Resistance NOT DETECTED', 'Error']\n"
     ]
    }
   ],
   "source": [
    "# Get unique values in the 'age' column\n",
    "unique_results = df1_filtered.select('genexpert_test_result').distinct().collect()\n",
    "unique_results_list = [row['genexpert_test_result'] for row in unique_results]\n",
    "print(\"unique_results:\", unique_results_list)"
   ]
  },
  {
   "cell_type": "markdown",
   "id": "5361ad14",
   "metadata": {},
   "source": [
    "## Cleaning Error , Invalid , Noresult and Null Result from test output"
   ]
  },
  {
   "cell_type": "code",
   "execution_count": 20,
   "id": "06c801c6",
   "metadata": {},
   "outputs": [],
   "source": [
    "df_cleaned = df_cleaned[~df_cleaned['genexpert_test_result'].isin (['Error','Invalid',None,'NO RESULT'])]"
   ]
  },
  {
   "cell_type": "code",
   "execution_count": 21,
   "id": "3f56fb48",
   "metadata": {},
   "outputs": [
    {
     "name": "stdout",
     "output_type": "stream",
     "text": [
      "(21505, 13)\n"
     ]
    },
    {
     "data": {
      "text/plain": [
       "array(['Rif Resistance DETECTED', 'Rif Resistance NOT DETECTED',\n",
       "       'MTB NOT DETECTED', 'Rif Indeterminate'], dtype=object)"
      ]
     },
     "execution_count": 21,
     "metadata": {},
     "output_type": "execute_result"
    }
   ],
   "source": [
    "print(df_cleaned.shape)\n",
    "df_cleaned.genexpert_test_result.unique()"
   ]
  },
  {
   "cell_type": "code",
   "execution_count": 22,
   "id": "004d0dd5",
   "metadata": {},
   "outputs": [],
   "source": [
    "df1_filtered2 = df1_filtered.filter(col('genexpert_test_result').isin(['MTB NOT DETECTED',  'Rif Resistance DETECTED', 'Rif Indeterminate', 'Rif Resistance NOT DETECTED']))"
   ]
  },
  {
   "cell_type": "code",
   "execution_count": 23,
   "id": "22ea8b50",
   "metadata": {
    "scrolled": true
   },
   "outputs": [
    {
     "name": "stdout",
     "output_type": "stream",
     "text": [
      "Number of rows: 21505\n",
      "Number of columns: 13\n",
      "unique_results: ['MTB NOT DETECTED', 'Rif Resistance DETECTED', 'Rif Indeterminate', 'Rif Resistance NOT DETECTED']\n"
     ]
    }
   ],
   "source": [
    "# Print the shape of the DataFrame\n",
    "num_rows = df1_filtered2.count()\n",
    "num_columns = len(df1.columns)\n",
    "print(f\"Number of rows: {num_rows}\")\n",
    "print(f\"Number of columns: {num_columns}\")\n",
    "# Get unique values in the 'age' column\n",
    "unique_results = df1_filtered2.select('genexpert_test_result').distinct().collect()\n",
    "unique_results_list = [row['genexpert_test_result'] for row in unique_results]\n",
    "print(\"unique_results:\", unique_results_list)"
   ]
  },
  {
   "cell_type": "code",
   "execution_count": 24,
   "id": "562d672c",
   "metadata": {},
   "outputs": [
    {
     "data": {
      "text/html": [
       "<div>\n",
       "<style scoped>\n",
       "    .dataframe tbody tr th:only-of-type {\n",
       "        vertical-align: middle;\n",
       "    }\n",
       "\n",
       "    .dataframe tbody tr th {\n",
       "        vertical-align: top;\n",
       "    }\n",
       "\n",
       "    .dataframe thead th {\n",
       "        text-align: right;\n",
       "    }\n",
       "</style>\n",
       "<table border=\"1\" class=\"dataframe\">\n",
       "  <thead>\n",
       "    <tr style=\"text-align: right;\">\n",
       "      <th></th>\n",
       "      <th>last_updated_by</th>\n",
       "      <th>enrollment_date</th>\n",
       "      <th>organisation_unit_name</th>\n",
       "      <th>organisation_unit_name_hierarchy</th>\n",
       "      <th>organisation_unit_code</th>\n",
       "      <th>organisation_unit</th>\n",
       "      <th>ward_number</th>\n",
       "      <th>district</th>\n",
       "      <th>sex</th>\n",
       "      <th>genexpert_test_result</th>\n",
       "      <th>municipality</th>\n",
       "      <th>patient_id</th>\n",
       "      <th>age</th>\n",
       "    </tr>\n",
       "  </thead>\n",
       "  <tbody>\n",
       "    <tr>\n",
       "      <th>0</th>\n",
       "      <td>Lumbini Medical College, Palpa_LAB (lmcp.lab)</td>\n",
       "      <td>2020-11-23 00:00:00.0</td>\n",
       "      <td>LUMBINI MEDICAL COLLEGE_PALPA</td>\n",
       "      <td>Nepal / 5 Lumbini Province / 506 PALPA / 50605...</td>\n",
       "      <td>14076</td>\n",
       "      <td>R0g8PTLzqmq</td>\n",
       "      <td>1.0</td>\n",
       "      <td>PALPA</td>\n",
       "      <td>Male</td>\n",
       "      <td>Rif Resistance DETECTED</td>\n",
       "      <td>50602 Purbakhola Rural Municipality</td>\n",
       "      <td>677367</td>\n",
       "      <td>45 to 54</td>\n",
       "    </tr>\n",
       "    <tr>\n",
       "      <th>1</th>\n",
       "      <td>Prithivi Chandra Hospital, Nawalparasi_LAB (pc...</td>\n",
       "      <td>2020-12-01 00:00:00.0</td>\n",
       "      <td>PRITHIV CHANDRA HOSPITAL_ NAWALPARASI</td>\n",
       "      <td>Nepal / 5 Lumbini Province / 507 NAWALPARASI W...</td>\n",
       "      <td>13872</td>\n",
       "      <td>e8msu3rYPr7</td>\n",
       "      <td>2.0</td>\n",
       "      <td>NAWALPARASI EAST</td>\n",
       "      <td>Male</td>\n",
       "      <td>Rif Resistance NOT DETECTED</td>\n",
       "      <td>50706 Pratapapur Rural Municipality</td>\n",
       "      <td>354769</td>\n",
       "      <td>35 to 44</td>\n",
       "    </tr>\n",
       "    <tr>\n",
       "      <th>4</th>\n",
       "      <td>DISTRICT HOSPITAL_ UDAYAPUR, DISTRICT HOSPITAL...</td>\n",
       "      <td>2020-09-24 00:00:00.0</td>\n",
       "      <td>DISTRICT HOSPITAL_ UDAYAPUR</td>\n",
       "      <td>Nepal / 1 Koshi Province / 114 UDAYAPUR / 1140...</td>\n",
       "      <td>15722</td>\n",
       "      <td>M0h4xQCnr5Q</td>\n",
       "      <td>13.0</td>\n",
       "      <td>UDAYAPUR</td>\n",
       "      <td>Male</td>\n",
       "      <td>MTB NOT DETECTED</td>\n",
       "      <td>11403 Triyuga Municipality</td>\n",
       "      <td>3404379</td>\n",
       "      <td>35 to 44</td>\n",
       "    </tr>\n",
       "    <tr>\n",
       "      <th>5</th>\n",
       "      <td>SETI ZONAL HOSPITAL, KAILALI_LAB (szhk.lab)</td>\n",
       "      <td>2020-12-22 00:00:00.0</td>\n",
       "      <td>SETI ZONAL HOSPITAL_ KAILALI</td>\n",
       "      <td>Nepal / 7 Sudurpashchim Province / 708 KAILALI...</td>\n",
       "      <td>12352</td>\n",
       "      <td>CZSqk9wH36L</td>\n",
       "      <td>2.0</td>\n",
       "      <td>KAILALI</td>\n",
       "      <td>Male</td>\n",
       "      <td>MTB NOT DETECTED</td>\n",
       "      <td>70804 Gauriganga Municipality</td>\n",
       "      <td>6651496</td>\n",
       "      <td>55 to 64</td>\n",
       "    </tr>\n",
       "    <tr>\n",
       "      <th>30</th>\n",
       "      <td>DISTRICT HOSPITAL_ UDAYAPUR, DISTRICT HOSPITAL...</td>\n",
       "      <td>2020-11-25 00:00:00.0</td>\n",
       "      <td>DISTRICT HOSPITAL_ UDAYAPUR</td>\n",
       "      <td>Nepal / 1 Koshi Province / 114 UDAYAPUR / 1140...</td>\n",
       "      <td>15722</td>\n",
       "      <td>M0h4xQCnr5Q</td>\n",
       "      <td>7.0</td>\n",
       "      <td>UDAYAPUR</td>\n",
       "      <td>Female</td>\n",
       "      <td>MTB NOT DETECTED</td>\n",
       "      <td>11404 Rautamai Rural Municipality</td>\n",
       "      <td>8715899</td>\n",
       "      <td>25 to 34</td>\n",
       "    </tr>\n",
       "    <tr>\n",
       "      <th>...</th>\n",
       "      <td>...</td>\n",
       "      <td>...</td>\n",
       "      <td>...</td>\n",
       "      <td>...</td>\n",
       "      <td>...</td>\n",
       "      <td>...</td>\n",
       "      <td>...</td>\n",
       "      <td>...</td>\n",
       "      <td>...</td>\n",
       "      <td>...</td>\n",
       "      <td>...</td>\n",
       "      <td>...</td>\n",
       "      <td>...</td>\n",
       "    </tr>\n",
       "    <tr>\n",
       "      <th>99994</th>\n",
       "      <td>NEPALGUNJ MEDICAL COLLEGE TEACHING HOSPITAL, K...</td>\n",
       "      <td>2022-03-04 00:00:00.0</td>\n",
       "      <td>NEPALGUNJ MEDICAL COLLEGE TEACHING HOSPITAL_KO...</td>\n",
       "      <td>Nepal / 5 Lumbini Province / 511 BANKE / 51102...</td>\n",
       "      <td>10931</td>\n",
       "      <td>MVM4GjEbulf</td>\n",
       "      <td>12.0</td>\n",
       "      <td>JAJARKOT</td>\n",
       "      <td>Male</td>\n",
       "      <td>MTB NOT DETECTED</td>\n",
       "      <td>60704 Chhedagad Municipality</td>\n",
       "      <td>2651546</td>\n",
       "      <td>65+</td>\n",
       "    </tr>\n",
       "    <tr>\n",
       "      <th>99995</th>\n",
       "      <td>DAMAULI  HOSPITAL, TANAHU_LAB (ddht.lab)</td>\n",
       "      <td>2022-03-04 00:00:00.0</td>\n",
       "      <td>DAMAULI DISTRICT HOSPITAL_ TANAHU</td>\n",
       "      <td>Nepal / 4 Gandaki Province / 407 TANAHU / 4070...</td>\n",
       "      <td>15578</td>\n",
       "      <td>StYGSnQkGYd</td>\n",
       "      <td>6.0</td>\n",
       "      <td>TANAHU</td>\n",
       "      <td>Male</td>\n",
       "      <td>MTB NOT DETECTED</td>\n",
       "      <td>40709 Bandipur Rural Municipality</td>\n",
       "      <td>5539227</td>\n",
       "      <td>15 to 24</td>\n",
       "    </tr>\n",
       "    <tr>\n",
       "      <th>99996</th>\n",
       "      <td>DISTRICT HOSPITAL_ DOTI, DISTRICT HOSPITAL_ DO...</td>\n",
       "      <td>2022-03-01 00:00:00.0</td>\n",
       "      <td>DISTRICT HOSPITAL_ DOTI</td>\n",
       "      <td>Nepal / 7 Sudurpashchim Province / 706 DOTI / ...</td>\n",
       "      <td>11854</td>\n",
       "      <td>xQ9yCoUNMvb</td>\n",
       "      <td>8.0</td>\n",
       "      <td>DOTI</td>\n",
       "      <td>Female</td>\n",
       "      <td>MTB NOT DETECTED</td>\n",
       "      <td>70604 Shikhar Municipality</td>\n",
       "      <td>8616709</td>\n",
       "      <td>65+</td>\n",
       "    </tr>\n",
       "    <tr>\n",
       "      <th>99997</th>\n",
       "      <td>DISTRICT HOSPITAL_ DOTI, DISTRICT HOSPITAL_ DO...</td>\n",
       "      <td>2022-03-02 00:00:00.0</td>\n",
       "      <td>DISTRICT HOSPITAL_ DOTI</td>\n",
       "      <td>Nepal / 7 Sudurpashchim Province / 706 DOTI / ...</td>\n",
       "      <td>11854</td>\n",
       "      <td>xQ9yCoUNMvb</td>\n",
       "      <td>5.0</td>\n",
       "      <td>DOTI</td>\n",
       "      <td>Female</td>\n",
       "      <td>MTB NOT DETECTED</td>\n",
       "      <td>70602 Sayal Rural Municipality</td>\n",
       "      <td>462914</td>\n",
       "      <td>15 to 24</td>\n",
       "    </tr>\n",
       "    <tr>\n",
       "      <th>99998</th>\n",
       "      <td>Tuberculosis Treatment Center,Pokhara, Pokhara...</td>\n",
       "      <td>2022-03-04 00:00:00.0</td>\n",
       "      <td>TUBERCULOSIS TREATMENT CENTER_POKHARA</td>\n",
       "      <td>Nepal / 4 Gandaki Province / 405 KASKI / 40504...</td>\n",
       "      <td>15903</td>\n",
       "      <td>gC0JprggWan</td>\n",
       "      <td>10.0</td>\n",
       "      <td>KASKI</td>\n",
       "      <td>Female</td>\n",
       "      <td>MTB NOT DETECTED</td>\n",
       "      <td>40504 Pokhara Metropolitan City</td>\n",
       "      <td>121239</td>\n",
       "      <td>65+</td>\n",
       "    </tr>\n",
       "  </tbody>\n",
       "</table>\n",
       "<p>21505 rows × 13 columns</p>\n",
       "</div>"
      ],
      "text/plain": [
       "                                         last_updated_by  \\\n",
       "0          Lumbini Medical College, Palpa_LAB (lmcp.lab)   \n",
       "1      Prithivi Chandra Hospital, Nawalparasi_LAB (pc...   \n",
       "4      DISTRICT HOSPITAL_ UDAYAPUR, DISTRICT HOSPITAL...   \n",
       "5            SETI ZONAL HOSPITAL, KAILALI_LAB (szhk.lab)   \n",
       "30     DISTRICT HOSPITAL_ UDAYAPUR, DISTRICT HOSPITAL...   \n",
       "...                                                  ...   \n",
       "99994  NEPALGUNJ MEDICAL COLLEGE TEACHING HOSPITAL, K...   \n",
       "99995           DAMAULI  HOSPITAL, TANAHU_LAB (ddht.lab)   \n",
       "99996  DISTRICT HOSPITAL_ DOTI, DISTRICT HOSPITAL_ DO...   \n",
       "99997  DISTRICT HOSPITAL_ DOTI, DISTRICT HOSPITAL_ DO...   \n",
       "99998  Tuberculosis Treatment Center,Pokhara, Pokhara...   \n",
       "\n",
       "             enrollment_date  \\\n",
       "0      2020-11-23 00:00:00.0   \n",
       "1      2020-12-01 00:00:00.0   \n",
       "4      2020-09-24 00:00:00.0   \n",
       "5      2020-12-22 00:00:00.0   \n",
       "30     2020-11-25 00:00:00.0   \n",
       "...                      ...   \n",
       "99994  2022-03-04 00:00:00.0   \n",
       "99995  2022-03-04 00:00:00.0   \n",
       "99996  2022-03-01 00:00:00.0   \n",
       "99997  2022-03-02 00:00:00.0   \n",
       "99998  2022-03-04 00:00:00.0   \n",
       "\n",
       "                                  organisation_unit_name  \\\n",
       "0                          LUMBINI MEDICAL COLLEGE_PALPA   \n",
       "1                  PRITHIV CHANDRA HOSPITAL_ NAWALPARASI   \n",
       "4                            DISTRICT HOSPITAL_ UDAYAPUR   \n",
       "5                           SETI ZONAL HOSPITAL_ KAILALI   \n",
       "30                           DISTRICT HOSPITAL_ UDAYAPUR   \n",
       "...                                                  ...   \n",
       "99994  NEPALGUNJ MEDICAL COLLEGE TEACHING HOSPITAL_KO...   \n",
       "99995                  DAMAULI DISTRICT HOSPITAL_ TANAHU   \n",
       "99996                            DISTRICT HOSPITAL_ DOTI   \n",
       "99997                            DISTRICT HOSPITAL_ DOTI   \n",
       "99998              TUBERCULOSIS TREATMENT CENTER_POKHARA   \n",
       "\n",
       "                        organisation_unit_name_hierarchy  \\\n",
       "0      Nepal / 5 Lumbini Province / 506 PALPA / 50605...   \n",
       "1      Nepal / 5 Lumbini Province / 507 NAWALPARASI W...   \n",
       "4      Nepal / 1 Koshi Province / 114 UDAYAPUR / 1140...   \n",
       "5      Nepal / 7 Sudurpashchim Province / 708 KAILALI...   \n",
       "30     Nepal / 1 Koshi Province / 114 UDAYAPUR / 1140...   \n",
       "...                                                  ...   \n",
       "99994  Nepal / 5 Lumbini Province / 511 BANKE / 51102...   \n",
       "99995  Nepal / 4 Gandaki Province / 407 TANAHU / 4070...   \n",
       "99996  Nepal / 7 Sudurpashchim Province / 706 DOTI / ...   \n",
       "99997  Nepal / 7 Sudurpashchim Province / 706 DOTI / ...   \n",
       "99998  Nepal / 4 Gandaki Province / 405 KASKI / 40504...   \n",
       "\n",
       "      organisation_unit_code organisation_unit  ward_number          district  \\\n",
       "0                      14076       R0g8PTLzqmq          1.0             PALPA   \n",
       "1                      13872       e8msu3rYPr7          2.0  NAWALPARASI EAST   \n",
       "4                      15722       M0h4xQCnr5Q         13.0          UDAYAPUR   \n",
       "5                      12352       CZSqk9wH36L          2.0           KAILALI   \n",
       "30                     15722       M0h4xQCnr5Q          7.0          UDAYAPUR   \n",
       "...                      ...               ...          ...               ...   \n",
       "99994                  10931       MVM4GjEbulf         12.0          JAJARKOT   \n",
       "99995                  15578       StYGSnQkGYd          6.0            TANAHU   \n",
       "99996                  11854       xQ9yCoUNMvb          8.0              DOTI   \n",
       "99997                  11854       xQ9yCoUNMvb          5.0              DOTI   \n",
       "99998                  15903       gC0JprggWan         10.0             KASKI   \n",
       "\n",
       "          sex        genexpert_test_result  \\\n",
       "0        Male      Rif Resistance DETECTED   \n",
       "1        Male  Rif Resistance NOT DETECTED   \n",
       "4        Male             MTB NOT DETECTED   \n",
       "5        Male             MTB NOT DETECTED   \n",
       "30     Female             MTB NOT DETECTED   \n",
       "...       ...                          ...   \n",
       "99994    Male             MTB NOT DETECTED   \n",
       "99995    Male             MTB NOT DETECTED   \n",
       "99996  Female             MTB NOT DETECTED   \n",
       "99997  Female             MTB NOT DETECTED   \n",
       "99998  Female             MTB NOT DETECTED   \n",
       "\n",
       "                              municipality  patient_id       age  \n",
       "0      50602 Purbakhola Rural Municipality      677367  45 to 54  \n",
       "1      50706 Pratapapur Rural Municipality      354769  35 to 44  \n",
       "4               11403 Triyuga Municipality     3404379  35 to 44  \n",
       "5            70804 Gauriganga Municipality     6651496  55 to 64  \n",
       "30       11404 Rautamai Rural Municipality     8715899  25 to 34  \n",
       "...                                    ...         ...       ...  \n",
       "99994         60704 Chhedagad Municipality     2651546       65+  \n",
       "99995    40709 Bandipur Rural Municipality     5539227  15 to 24  \n",
       "99996           70604 Shikhar Municipality     8616709       65+  \n",
       "99997       70602 Sayal Rural Municipality      462914  15 to 24  \n",
       "99998      40504 Pokhara Metropolitan City      121239       65+  \n",
       "\n",
       "[21505 rows x 13 columns]"
      ]
     },
     "execution_count": 24,
     "metadata": {},
     "output_type": "execute_result"
    }
   ],
   "source": [
    "df_cleaned"
   ]
  },
  {
   "cell_type": "code",
   "execution_count": 25,
   "id": "5045d8dd",
   "metadata": {
    "scrolled": false
   },
   "outputs": [
    {
     "data": {
      "text/html": [
       "<div>\n",
       "<style scoped>\n",
       "    .dataframe tbody tr th:only-of-type {\n",
       "        vertical-align: middle;\n",
       "    }\n",
       "\n",
       "    .dataframe tbody tr th {\n",
       "        vertical-align: top;\n",
       "    }\n",
       "\n",
       "    .dataframe thead th {\n",
       "        text-align: right;\n",
       "    }\n",
       "</style>\n",
       "<table border=\"1\" class=\"dataframe\">\n",
       "  <thead>\n",
       "    <tr style=\"text-align: right;\">\n",
       "      <th></th>\n",
       "      <th>last_updated_by</th>\n",
       "      <th>enrollment_date</th>\n",
       "      <th>organisation_unit_name</th>\n",
       "      <th>organisation_unit_name_hierarchy</th>\n",
       "      <th>organisation_unit_code</th>\n",
       "      <th>organisation_unit</th>\n",
       "      <th>ward_number</th>\n",
       "      <th>district</th>\n",
       "      <th>sex</th>\n",
       "      <th>genexpert_test_result</th>\n",
       "      <th>municipality</th>\n",
       "      <th>patient_id</th>\n",
       "      <th>age</th>\n",
       "    </tr>\n",
       "  </thead>\n",
       "  <tbody>\n",
       "    <tr>\n",
       "      <th>0</th>\n",
       "      <td>Lumbini Medical College, Palpa_LAB (lmcp.lab)</td>\n",
       "      <td>2020-11-23 00:00:00.0</td>\n",
       "      <td>LUMBINI MEDICAL COLLEGE_PALPA</td>\n",
       "      <td>Nepal / 5 Lumbini Province / 506 PALPA / 50605...</td>\n",
       "      <td>14076</td>\n",
       "      <td>R0g8PTLzqmq</td>\n",
       "      <td>1.0</td>\n",
       "      <td>PALPA</td>\n",
       "      <td>Male</td>\n",
       "      <td>Rif Resistance DETECTED</td>\n",
       "      <td>50602 Purbakhola Rural Municipality</td>\n",
       "      <td>677367</td>\n",
       "      <td>45 to 54</td>\n",
       "    </tr>\n",
       "    <tr>\n",
       "      <th>1</th>\n",
       "      <td>Prithivi Chandra Hospital, Nawalparasi_LAB (pc...</td>\n",
       "      <td>2020-12-01 00:00:00.0</td>\n",
       "      <td>PRITHIV CHANDRA HOSPITAL_ NAWALPARASI</td>\n",
       "      <td>Nepal / 5 Lumbini Province / 507 NAWALPARASI W...</td>\n",
       "      <td>13872</td>\n",
       "      <td>e8msu3rYPr7</td>\n",
       "      <td>2.0</td>\n",
       "      <td>NAWALPARASI EAST</td>\n",
       "      <td>Male</td>\n",
       "      <td>Rif Resistance NOT DETECTED</td>\n",
       "      <td>50706 Pratapapur Rural Municipality</td>\n",
       "      <td>354769</td>\n",
       "      <td>35 to 44</td>\n",
       "    </tr>\n",
       "    <tr>\n",
       "      <th>2</th>\n",
       "      <td>DISTRICT HOSPITAL_ UDAYAPUR, DISTRICT HOSPITAL...</td>\n",
       "      <td>2020-09-24 00:00:00.0</td>\n",
       "      <td>DISTRICT HOSPITAL_ UDAYAPUR</td>\n",
       "      <td>Nepal / 1 Koshi Province / 114 UDAYAPUR / 1140...</td>\n",
       "      <td>15722</td>\n",
       "      <td>M0h4xQCnr5Q</td>\n",
       "      <td>13.0</td>\n",
       "      <td>UDAYAPUR</td>\n",
       "      <td>Male</td>\n",
       "      <td>MTB NOT DETECTED</td>\n",
       "      <td>11403 Triyuga Municipality</td>\n",
       "      <td>3404379</td>\n",
       "      <td>35 to 44</td>\n",
       "    </tr>\n",
       "    <tr>\n",
       "      <th>3</th>\n",
       "      <td>SETI ZONAL HOSPITAL, KAILALI_LAB (szhk.lab)</td>\n",
       "      <td>2020-12-22 00:00:00.0</td>\n",
       "      <td>SETI ZONAL HOSPITAL_ KAILALI</td>\n",
       "      <td>Nepal / 7 Sudurpashchim Province / 708 KAILALI...</td>\n",
       "      <td>12352</td>\n",
       "      <td>CZSqk9wH36L</td>\n",
       "      <td>2.0</td>\n",
       "      <td>KAILALI</td>\n",
       "      <td>Male</td>\n",
       "      <td>MTB NOT DETECTED</td>\n",
       "      <td>70804 Gauriganga Municipality</td>\n",
       "      <td>6651496</td>\n",
       "      <td>55 to 64</td>\n",
       "    </tr>\n",
       "    <tr>\n",
       "      <th>4</th>\n",
       "      <td>DISTRICT HOSPITAL_ UDAYAPUR, DISTRICT HOSPITAL...</td>\n",
       "      <td>2020-11-25 00:00:00.0</td>\n",
       "      <td>DISTRICT HOSPITAL_ UDAYAPUR</td>\n",
       "      <td>Nepal / 1 Koshi Province / 114 UDAYAPUR / 1140...</td>\n",
       "      <td>15722</td>\n",
       "      <td>M0h4xQCnr5Q</td>\n",
       "      <td>7.0</td>\n",
       "      <td>UDAYAPUR</td>\n",
       "      <td>Female</td>\n",
       "      <td>MTB NOT DETECTED</td>\n",
       "      <td>11404 Rautamai Rural Municipality</td>\n",
       "      <td>8715899</td>\n",
       "      <td>25 to 34</td>\n",
       "    </tr>\n",
       "    <tr>\n",
       "      <th>...</th>\n",
       "      <td>...</td>\n",
       "      <td>...</td>\n",
       "      <td>...</td>\n",
       "      <td>...</td>\n",
       "      <td>...</td>\n",
       "      <td>...</td>\n",
       "      <td>...</td>\n",
       "      <td>...</td>\n",
       "      <td>...</td>\n",
       "      <td>...</td>\n",
       "      <td>...</td>\n",
       "      <td>...</td>\n",
       "      <td>...</td>\n",
       "    </tr>\n",
       "    <tr>\n",
       "      <th>21500</th>\n",
       "      <td>NEPALGUNJ MEDICAL COLLEGE TEACHING HOSPITAL, K...</td>\n",
       "      <td>2022-03-04 00:00:00.0</td>\n",
       "      <td>NEPALGUNJ MEDICAL COLLEGE TEACHING HOSPITAL_KO...</td>\n",
       "      <td>Nepal / 5 Lumbini Province / 511 BANKE / 51102...</td>\n",
       "      <td>10931</td>\n",
       "      <td>MVM4GjEbulf</td>\n",
       "      <td>12.0</td>\n",
       "      <td>JAJARKOT</td>\n",
       "      <td>Male</td>\n",
       "      <td>MTB NOT DETECTED</td>\n",
       "      <td>60704 Chhedagad Municipality</td>\n",
       "      <td>2651546</td>\n",
       "      <td>65+</td>\n",
       "    </tr>\n",
       "    <tr>\n",
       "      <th>21501</th>\n",
       "      <td>DAMAULI  HOSPITAL, TANAHU_LAB (ddht.lab)</td>\n",
       "      <td>2022-03-04 00:00:00.0</td>\n",
       "      <td>DAMAULI DISTRICT HOSPITAL_ TANAHU</td>\n",
       "      <td>Nepal / 4 Gandaki Province / 407 TANAHU / 4070...</td>\n",
       "      <td>15578</td>\n",
       "      <td>StYGSnQkGYd</td>\n",
       "      <td>6.0</td>\n",
       "      <td>TANAHU</td>\n",
       "      <td>Male</td>\n",
       "      <td>MTB NOT DETECTED</td>\n",
       "      <td>40709 Bandipur Rural Municipality</td>\n",
       "      <td>5539227</td>\n",
       "      <td>15 to 24</td>\n",
       "    </tr>\n",
       "    <tr>\n",
       "      <th>21502</th>\n",
       "      <td>DISTRICT HOSPITAL_ DOTI, DISTRICT HOSPITAL_ DO...</td>\n",
       "      <td>2022-03-01 00:00:00.0</td>\n",
       "      <td>DISTRICT HOSPITAL_ DOTI</td>\n",
       "      <td>Nepal / 7 Sudurpashchim Province / 706 DOTI / ...</td>\n",
       "      <td>11854</td>\n",
       "      <td>xQ9yCoUNMvb</td>\n",
       "      <td>8.0</td>\n",
       "      <td>DOTI</td>\n",
       "      <td>Female</td>\n",
       "      <td>MTB NOT DETECTED</td>\n",
       "      <td>70604 Shikhar Municipality</td>\n",
       "      <td>8616709</td>\n",
       "      <td>65+</td>\n",
       "    </tr>\n",
       "    <tr>\n",
       "      <th>21503</th>\n",
       "      <td>DISTRICT HOSPITAL_ DOTI, DISTRICT HOSPITAL_ DO...</td>\n",
       "      <td>2022-03-02 00:00:00.0</td>\n",
       "      <td>DISTRICT HOSPITAL_ DOTI</td>\n",
       "      <td>Nepal / 7 Sudurpashchim Province / 706 DOTI / ...</td>\n",
       "      <td>11854</td>\n",
       "      <td>xQ9yCoUNMvb</td>\n",
       "      <td>5.0</td>\n",
       "      <td>DOTI</td>\n",
       "      <td>Female</td>\n",
       "      <td>MTB NOT DETECTED</td>\n",
       "      <td>70602 Sayal Rural Municipality</td>\n",
       "      <td>462914</td>\n",
       "      <td>15 to 24</td>\n",
       "    </tr>\n",
       "    <tr>\n",
       "      <th>21504</th>\n",
       "      <td>Tuberculosis Treatment Center,Pokhara, Pokhara...</td>\n",
       "      <td>2022-03-04 00:00:00.0</td>\n",
       "      <td>TUBERCULOSIS TREATMENT CENTER_POKHARA</td>\n",
       "      <td>Nepal / 4 Gandaki Province / 405 KASKI / 40504...</td>\n",
       "      <td>15903</td>\n",
       "      <td>gC0JprggWan</td>\n",
       "      <td>10.0</td>\n",
       "      <td>KASKI</td>\n",
       "      <td>Female</td>\n",
       "      <td>MTB NOT DETECTED</td>\n",
       "      <td>40504 Pokhara Metropolitan City</td>\n",
       "      <td>121239</td>\n",
       "      <td>65+</td>\n",
       "    </tr>\n",
       "  </tbody>\n",
       "</table>\n",
       "<p>21505 rows × 13 columns</p>\n",
       "</div>"
      ],
      "text/plain": [
       "                                         last_updated_by  \\\n",
       "0          Lumbini Medical College, Palpa_LAB (lmcp.lab)   \n",
       "1      Prithivi Chandra Hospital, Nawalparasi_LAB (pc...   \n",
       "2      DISTRICT HOSPITAL_ UDAYAPUR, DISTRICT HOSPITAL...   \n",
       "3            SETI ZONAL HOSPITAL, KAILALI_LAB (szhk.lab)   \n",
       "4      DISTRICT HOSPITAL_ UDAYAPUR, DISTRICT HOSPITAL...   \n",
       "...                                                  ...   \n",
       "21500  NEPALGUNJ MEDICAL COLLEGE TEACHING HOSPITAL, K...   \n",
       "21501           DAMAULI  HOSPITAL, TANAHU_LAB (ddht.lab)   \n",
       "21502  DISTRICT HOSPITAL_ DOTI, DISTRICT HOSPITAL_ DO...   \n",
       "21503  DISTRICT HOSPITAL_ DOTI, DISTRICT HOSPITAL_ DO...   \n",
       "21504  Tuberculosis Treatment Center,Pokhara, Pokhara...   \n",
       "\n",
       "             enrollment_date  \\\n",
       "0      2020-11-23 00:00:00.0   \n",
       "1      2020-12-01 00:00:00.0   \n",
       "2      2020-09-24 00:00:00.0   \n",
       "3      2020-12-22 00:00:00.0   \n",
       "4      2020-11-25 00:00:00.0   \n",
       "...                      ...   \n",
       "21500  2022-03-04 00:00:00.0   \n",
       "21501  2022-03-04 00:00:00.0   \n",
       "21502  2022-03-01 00:00:00.0   \n",
       "21503  2022-03-02 00:00:00.0   \n",
       "21504  2022-03-04 00:00:00.0   \n",
       "\n",
       "                                  organisation_unit_name  \\\n",
       "0                          LUMBINI MEDICAL COLLEGE_PALPA   \n",
       "1                  PRITHIV CHANDRA HOSPITAL_ NAWALPARASI   \n",
       "2                            DISTRICT HOSPITAL_ UDAYAPUR   \n",
       "3                           SETI ZONAL HOSPITAL_ KAILALI   \n",
       "4                            DISTRICT HOSPITAL_ UDAYAPUR   \n",
       "...                                                  ...   \n",
       "21500  NEPALGUNJ MEDICAL COLLEGE TEACHING HOSPITAL_KO...   \n",
       "21501                  DAMAULI DISTRICT HOSPITAL_ TANAHU   \n",
       "21502                            DISTRICT HOSPITAL_ DOTI   \n",
       "21503                            DISTRICT HOSPITAL_ DOTI   \n",
       "21504              TUBERCULOSIS TREATMENT CENTER_POKHARA   \n",
       "\n",
       "                        organisation_unit_name_hierarchy  \\\n",
       "0      Nepal / 5 Lumbini Province / 506 PALPA / 50605...   \n",
       "1      Nepal / 5 Lumbini Province / 507 NAWALPARASI W...   \n",
       "2      Nepal / 1 Koshi Province / 114 UDAYAPUR / 1140...   \n",
       "3      Nepal / 7 Sudurpashchim Province / 708 KAILALI...   \n",
       "4      Nepal / 1 Koshi Province / 114 UDAYAPUR / 1140...   \n",
       "...                                                  ...   \n",
       "21500  Nepal / 5 Lumbini Province / 511 BANKE / 51102...   \n",
       "21501  Nepal / 4 Gandaki Province / 407 TANAHU / 4070...   \n",
       "21502  Nepal / 7 Sudurpashchim Province / 706 DOTI / ...   \n",
       "21503  Nepal / 7 Sudurpashchim Province / 706 DOTI / ...   \n",
       "21504  Nepal / 4 Gandaki Province / 405 KASKI / 40504...   \n",
       "\n",
       "      organisation_unit_code organisation_unit  ward_number          district  \\\n",
       "0                      14076       R0g8PTLzqmq          1.0             PALPA   \n",
       "1                      13872       e8msu3rYPr7          2.0  NAWALPARASI EAST   \n",
       "2                      15722       M0h4xQCnr5Q         13.0          UDAYAPUR   \n",
       "3                      12352       CZSqk9wH36L          2.0           KAILALI   \n",
       "4                      15722       M0h4xQCnr5Q          7.0          UDAYAPUR   \n",
       "...                      ...               ...          ...               ...   \n",
       "21500                  10931       MVM4GjEbulf         12.0          JAJARKOT   \n",
       "21501                  15578       StYGSnQkGYd          6.0            TANAHU   \n",
       "21502                  11854       xQ9yCoUNMvb          8.0              DOTI   \n",
       "21503                  11854       xQ9yCoUNMvb          5.0              DOTI   \n",
       "21504                  15903       gC0JprggWan         10.0             KASKI   \n",
       "\n",
       "          sex        genexpert_test_result  \\\n",
       "0        Male      Rif Resistance DETECTED   \n",
       "1        Male  Rif Resistance NOT DETECTED   \n",
       "2        Male             MTB NOT DETECTED   \n",
       "3        Male             MTB NOT DETECTED   \n",
       "4      Female             MTB NOT DETECTED   \n",
       "...       ...                          ...   \n",
       "21500    Male             MTB NOT DETECTED   \n",
       "21501    Male             MTB NOT DETECTED   \n",
       "21502  Female             MTB NOT DETECTED   \n",
       "21503  Female             MTB NOT DETECTED   \n",
       "21504  Female             MTB NOT DETECTED   \n",
       "\n",
       "                              municipality  patient_id       age  \n",
       "0      50602 Purbakhola Rural Municipality      677367  45 to 54  \n",
       "1      50706 Pratapapur Rural Municipality      354769  35 to 44  \n",
       "2               11403 Triyuga Municipality     3404379  35 to 44  \n",
       "3            70804 Gauriganga Municipality     6651496  55 to 64  \n",
       "4        11404 Rautamai Rural Municipality     8715899  25 to 34  \n",
       "...                                    ...         ...       ...  \n",
       "21500         60704 Chhedagad Municipality     2651546       65+  \n",
       "21501    40709 Bandipur Rural Municipality     5539227  15 to 24  \n",
       "21502           70604 Shikhar Municipality     8616709       65+  \n",
       "21503       70602 Sayal Rural Municipality      462914  15 to 24  \n",
       "21504      40504 Pokhara Metropolitan City      121239       65+  \n",
       "\n",
       "[21505 rows x 13 columns]"
      ]
     },
     "execution_count": 25,
     "metadata": {},
     "output_type": "execute_result"
    }
   ],
   "source": [
    "df_cleaned = df_cleaned.reset_index().drop(columns=['index'])\n",
    "df_cleaned"
   ]
  },
  {
   "cell_type": "code",
   "execution_count": 26,
   "id": "e22b863e",
   "metadata": {},
   "outputs": [],
   "source": [
    "df_cleaned.to_csv('df_cleaned.csv', sep=',', index=False, encoding='utf-8')"
   ]
  },
  {
   "cell_type": "code",
   "execution_count": 27,
   "id": "e540aedf",
   "metadata": {},
   "outputs": [
    {
     "name": "stdout",
     "output_type": "stream",
     "text": [
      "+--------------------+--------------------+----------------------+--------------------------------+----------------------+-----------------+-----------+----------------+------+---------------------+--------------------+----------+--------+\n",
      "|     last_updated_by|     enrollment_date|organisation_unit_name|organisation_unit_name_hierarchy|organisation_unit_code|organisation_unit|ward_number|        district|   sex|genexpert_test_result|        municipality|patient_id|     age|\n",
      "+--------------------+--------------------+----------------------+--------------------------------+----------------------+-----------------+-----------+----------------+------+---------------------+--------------------+----------+--------+\n",
      "|Lumbini Medical C...|2020-11-23 00:00:...|  LUMBINI MEDICAL C...|            Nepal / 5 Lumbini...|                 14076|      R0g8PTLzqmq|          1|           PALPA|  Male| Rif Resistance DE...|50602 Purbakhola ...|    677367|45 to 54|\n",
      "|Prithivi Chandra ...|2020-12-01 00:00:...|  PRITHIV CHANDRA H...|            Nepal / 5 Lumbini...|                 13872|      e8msu3rYPr7|          2|NAWALPARASI EAST|  Male| Rif Resistance NO...|50706 Pratapapur ...|    354769|35 to 44|\n",
      "|DISTRICT HOSPITAL...|2020-09-24 00:00:...|  DISTRICT HOSPITAL...|            Nepal / 1 Koshi P...|                 15722|      M0h4xQCnr5Q|         13|        UDAYAPUR|  Male|     MTB NOT DETECTED|11403 Triyuga Mun...|   3404379|35 to 44|\n",
      "|SETI ZONAL HOSPIT...|2020-12-22 00:00:...|  SETI ZONAL HOSPIT...|            Nepal / 7 Sudurpa...|                 12352|      CZSqk9wH36L|          2|         KAILALI|  Male|     MTB NOT DETECTED|70804 Gauriganga ...|   6651496|55 to 64|\n",
      "|DISTRICT HOSPITAL...|2020-11-25 00:00:...|  DISTRICT HOSPITAL...|            Nepal / 1 Koshi P...|                 15722|      M0h4xQCnr5Q|          7|        UDAYAPUR|Female|     MTB NOT DETECTED|11404 Rautamai Ru...|   8715899|25 to 34|\n",
      "|SETI ZONAL HOSPIT...|2020-02-13 00:00:...|  SETI ZONAL HOSPIT...|            Nepal / 7 Sudurpa...|                 12352|      CZSqk9wH36L|          6|         KAILALI|Female|     MTB NOT DETECTED|70804 Gauriganga ...|   5654428|     65+|\n",
      "|DISTRICT HEALTH O...|2020-12-15 00:00:...|  KALAIYA DISTRICT ...|            Nepal / 2 Madhesh...|                 11020|      OZGBcyvt0Eq|         24|            BARA|  Male|     MTB NOT DETECTED|20708 Kalaiya Sub...|   2972520|35 to 44|\n",
      "|BPKIHS, DHARAN_SU...|2019-04-23 00:00:...|  BPKIHS_ DHARAN_SU...|            Nepal / 1 Koshi P...|                 15383|      gyF1IWxbNdU|         18|         SUNSARI|  Male|     MTB NOT DETECTED|11301 Dharan Sub-...|   9847389|55 to 64|\n",
      "|ARGHAKHANCHI HOSP...|2020-09-22 00:00:...|  ARGHAKHANCHI HOSP...|            Nepal / 5 Lumbini...|                 10652|      mIZ7UfitSfF|          2|           GULMI|  Male|     MTB NOT DETECTED|50408 Dhurkot Rur...|   9432118|55 to 64|\n",
      "|Hospital, Bhim Ho...|2020-11-14 00:00:...|  BHIM HOSPITAL_ RU...|            Nepal / 5 Lumbini...|                 14650|      mL4Cbzwq1T7|          8|       RUPANDEHI|Female| Rif Resistance NO...|50811 Siddharthan...|   4023839|     65+|\n",
      "|NEPAL ANTI TUBERC...|2020-09-23 00:00:...|  NEPAL ANTI TUBERC...|            Nepal / 1 Koshi P...|                 13689|      evXkDLoQM9K|          9|          MORANG|Female|     MTB NOT DETECTED|11204 Sundarharai...|   9425729|     65+|\n",
      "|YADUKUHA PHC_DHAN...|2019-05-27 00:00:...|  YADUKUHA PHC_DHANUSA|            Nepal / 2 Madhesh...|                 11749|      ADxGZ7U8Bpd|         19|         DHANUSA|  Male|     MTB NOT DETECTED|20315 Janakpur Su...|   6756918|55 to 64|\n",
      "|DISTRICT HOSPITAL...|2019-07-08 00:00:...|  DISTRICT HOSPITAL...|            Nepal / 6 Karnali...|                 11385|      mPO6LgjseUd|          1|         DAILEKH|  Male| Rif Resistance NO...|60610 Dungeshwor ...|   6047346|45 to 54|\n",
      "|Tuberculosis Trea...|2019-11-07 00:00:...|  TUBERCULOSIS TREA...|            Nepal / 4 Gandaki...|                 15903|      gC0JprggWan|         33|           KASKI|Female|     MTB NOT DETECTED|40504 Pokhara Met...|     76725| 0 to 14|\n",
      "|Tuberculosis Trea...|2019-11-05 00:00:...|  TUBERCULOSIS TREA...|            Nepal / 4 Gandaki...|                 15903|      gC0JprggWan|         10|           KASKI|Female|     MTB NOT DETECTED|40504 Pokhara Met...|   4506108|25 to 34|\n",
      "|GENEXPERT LAB, LU...|2019-11-19 00:00:...|  LUMBINI PROVINCIA...|            Nepal / 5 Lumbini...|                 14682|      pKR0mkabc8U|          1|       RUPANDEHI|  Male|     MTB NOT DETECTED|50803 Sainamaina ...|    914743|     65+|\n",
      "|Provincial Hospit...|2019-03-23 00:00:...|  PROVINCIAL HOSPIT...|            Nepal / 6 Karnali...|                 15475|      TG9xwiyOzFy|          9|         SURKHET|Female|     MTB NOT DETECTED|61006 Birendranag...|   5499405|     65+|\n",
      "|MALANGAWA DISTRIC...|2019-12-15 00:00:...|  MALANGAWA DISTRIC...|            Nepal / 2 Madhesh...|                 15014|      NbSwp2REKl2|          3|         SARLAHI|  Male|     MTB NOT DETECTED|20505 Haripur Mun...|   7476311|15 to 24|\n",
      "|DAMAULI  HOSPITAL...|2022-11-28 00:00:...|  MADAN BHANDARI HO...|            Nepal / 1 Koshi P...|                 13682|      WK0Xzp0lkMk|          9|          MORANG|Female|     MTB NOT DETECTED|11209 Ratuwamai M...|   1017638|55 to 64|\n",
      "|Hospital, Bhim Ho...|2023-07-17 00:00:...|  BHIM HOSPITAL_ RU...|            Nepal / 5 Lumbini...|                 14650|      mL4Cbzwq1T7|          6|       RUPANDEHI|  Male| Rif Resistance NO...|50816 Marchawari ...|   2378155|15 to 24|\n",
      "+--------------------+--------------------+----------------------+--------------------------------+----------------------+-----------------+-----------+----------------+------+---------------------+--------------------+----------+--------+\n",
      "only showing top 20 rows\n",
      "\n"
     ]
    }
   ],
   "source": [
    "df1_filtered2.show()"
   ]
  },
  {
   "cell_type": "markdown",
   "id": "3db113a3",
   "metadata": {},
   "source": [
    "## Converting pandas dataframe to pyspark dataframe to load into hive "
   ]
  },
  {
   "cell_type": "code",
   "execution_count": 28,
   "id": "a593cec6",
   "metadata": {},
   "outputs": [],
   "source": [
    "df_forhive = spark.createDataFrame(df_cleaned)"
   ]
  },
  {
   "cell_type": "code",
   "execution_count": 29,
   "id": "f8ba672c",
   "metadata": {},
   "outputs": [
    {
     "name": "stdout",
     "output_type": "stream",
     "text": [
      "root\n",
      " |-- last_updated_by: string (nullable = true)\n",
      " |-- enrollment_date: string (nullable = true)\n",
      " |-- organisation_unit_name: string (nullable = true)\n",
      " |-- organisation_unit_name_hierarchy: string (nullable = true)\n",
      " |-- organisation_unit_code: string (nullable = true)\n",
      " |-- organisation_unit: string (nullable = true)\n",
      " |-- ward_number: double (nullable = true)\n",
      " |-- district: string (nullable = true)\n",
      " |-- sex: string (nullable = true)\n",
      " |-- genexpert_test_result: string (nullable = true)\n",
      " |-- municipality: string (nullable = true)\n",
      " |-- patient_id: long (nullable = true)\n",
      " |-- age: string (nullable = true)\n",
      "\n"
     ]
    }
   ],
   "source": [
    "df_forhive.printSchema()"
   ]
  },
  {
   "cell_type": "code",
   "execution_count": 31,
   "id": "78434e53",
   "metadata": {},
   "outputs": [
    {
     "name": "stderr",
     "output_type": "stream",
     "text": [
      "2024-09-15 14:28:19,944 WARN scheduler.TaskSetManager: Stage 23 contains a task of very large size (1102 KiB). The maximum recommended task size is 1000 KiB.\n",
      "2024-09-15 14:28:19,961 ERROR executor.Executor: Exception in task 0.0 in stage 23.0 (TID 870)\n",
      "org.apache.spark.api.python.PythonException: Traceback (most recent call last):\n",
      "  File \"/usr/local/spark3/spark-3.1.2-bin-hadoop3.2/python/lib/pyspark.zip/pyspark/worker.py\", line 477, in main\n",
      "    (\"%d.%d\" % sys.version_info[:2], version))\n",
      "Exception: Python in worker has different version 3.6 than that in driver 3.8, PySpark cannot run with different minor versions. Please check environment variables PYSPARK_PYTHON and PYSPARK_DRIVER_PYTHON are correctly set.\n",
      "\n",
      "\tat org.apache.spark.api.python.BasePythonRunner$ReaderIterator.handlePythonException(PythonRunner.scala:517)\n",
      "\tat org.apache.spark.api.python.PythonRunner$$anon$3.read(PythonRunner.scala:652)\n",
      "\tat org.apache.spark.api.python.PythonRunner$$anon$3.read(PythonRunner.scala:635)\n",
      "\tat org.apache.spark.api.python.BasePythonRunner$ReaderIterator.hasNext(PythonRunner.scala:470)\n",
      "\tat org.apache.spark.InterruptibleIterator.hasNext(InterruptibleIterator.scala:37)\n",
      "\tat scala.collection.Iterator$$anon$11.hasNext(Iterator.scala:489)\n",
      "\tat scala.collection.Iterator$$anon$10.hasNext(Iterator.scala:458)\n",
      "\tat scala.collection.Iterator$$anon$10.hasNext(Iterator.scala:458)\n",
      "\tat org.apache.spark.sql.catalyst.expressions.GeneratedClass$GeneratedIteratorForCodegenStage1.processNext(Unknown Source)\n",
      "\tat org.apache.spark.sql.execution.BufferedRowIterator.hasNext(BufferedRowIterator.java:43)\n",
      "\tat org.apache.spark.sql.execution.WholeStageCodegenExec$$anon$1.hasNext(WholeStageCodegenExec.scala:755)\n",
      "\tat org.apache.spark.sql.execution.SparkPlan.$anonfun$getByteArrayRdd$1(SparkPlan.scala:345)\n",
      "\tat org.apache.spark.rdd.RDD.$anonfun$mapPartitionsInternal$2(RDD.scala:898)\n",
      "\tat org.apache.spark.rdd.RDD.$anonfun$mapPartitionsInternal$2$adapted(RDD.scala:898)\n",
      "\tat org.apache.spark.rdd.MapPartitionsRDD.compute(MapPartitionsRDD.scala:52)\n",
      "\tat org.apache.spark.rdd.RDD.computeOrReadCheckpoint(RDD.scala:373)\n",
      "\tat org.apache.spark.rdd.RDD.iterator(RDD.scala:337)\n",
      "\tat org.apache.spark.scheduler.ResultTask.runTask(ResultTask.scala:90)\n",
      "\tat org.apache.spark.scheduler.Task.run(Task.scala:131)\n",
      "\tat org.apache.spark.executor.Executor$TaskRunner.$anonfun$run$3(Executor.scala:497)\n",
      "\tat org.apache.spark.util.Utils$.tryWithSafeFinally(Utils.scala:1439)\n",
      "\tat org.apache.spark.executor.Executor$TaskRunner.run(Executor.scala:500)\n",
      "\tat java.util.concurrent.ThreadPoolExecutor.runWorker(ThreadPoolExecutor.java:1149)\n",
      "\tat java.util.concurrent.ThreadPoolExecutor$Worker.run(ThreadPoolExecutor.java:624)\n",
      "\tat java.lang.Thread.run(Thread.java:748)\n",
      "2024-09-15 14:28:19,964 WARN scheduler.TaskSetManager: Lost task 0.0 in stage 23.0 (TID 870) (10.0.2.15 executor driver): org.apache.spark.api.python.PythonException: Traceback (most recent call last):\n",
      "  File \"/usr/local/spark3/spark-3.1.2-bin-hadoop3.2/python/lib/pyspark.zip/pyspark/worker.py\", line 477, in main\n",
      "    (\"%d.%d\" % sys.version_info[:2], version))\n",
      "Exception: Python in worker has different version 3.6 than that in driver 3.8, PySpark cannot run with different minor versions. Please check environment variables PYSPARK_PYTHON and PYSPARK_DRIVER_PYTHON are correctly set.\n",
      "\n",
      "\tat org.apache.spark.api.python.BasePythonRunner$ReaderIterator.handlePythonException(PythonRunner.scala:517)\n",
      "\tat org.apache.spark.api.python.PythonRunner$$anon$3.read(PythonRunner.scala:652)\n",
      "\tat org.apache.spark.api.python.PythonRunner$$anon$3.read(PythonRunner.scala:635)\n",
      "\tat org.apache.spark.api.python.BasePythonRunner$ReaderIterator.hasNext(PythonRunner.scala:470)\n",
      "\tat org.apache.spark.InterruptibleIterator.hasNext(InterruptibleIterator.scala:37)\n",
      "\tat scala.collection.Iterator$$anon$11.hasNext(Iterator.scala:489)\n",
      "\tat scala.collection.Iterator$$anon$10.hasNext(Iterator.scala:458)\n",
      "\tat scala.collection.Iterator$$anon$10.hasNext(Iterator.scala:458)\n",
      "\tat org.apache.spark.sql.catalyst.expressions.GeneratedClass$GeneratedIteratorForCodegenStage1.processNext(Unknown Source)\n",
      "\tat org.apache.spark.sql.execution.BufferedRowIterator.hasNext(BufferedRowIterator.java:43)\n",
      "\tat org.apache.spark.sql.execution.WholeStageCodegenExec$$anon$1.hasNext(WholeStageCodegenExec.scala:755)\n",
      "\tat org.apache.spark.sql.execution.SparkPlan.$anonfun$getByteArrayRdd$1(SparkPlan.scala:345)\n",
      "\tat org.apache.spark.rdd.RDD.$anonfun$mapPartitionsInternal$2(RDD.scala:898)\n",
      "\tat org.apache.spark.rdd.RDD.$anonfun$mapPartitionsInternal$2$adapted(RDD.scala:898)\n",
      "\tat org.apache.spark.rdd.MapPartitionsRDD.compute(MapPartitionsRDD.scala:52)\n",
      "\tat org.apache.spark.rdd.RDD.computeOrReadCheckpoint(RDD.scala:373)\n",
      "\tat org.apache.spark.rdd.RDD.iterator(RDD.scala:337)\n",
      "\tat org.apache.spark.scheduler.ResultTask.runTask(ResultTask.scala:90)\n",
      "\tat org.apache.spark.scheduler.Task.run(Task.scala:131)\n",
      "\tat org.apache.spark.executor.Executor$TaskRunner.$anonfun$run$3(Executor.scala:497)\n",
      "\tat org.apache.spark.util.Utils$.tryWithSafeFinally(Utils.scala:1439)\n",
      "\tat org.apache.spark.executor.Executor$TaskRunner.run(Executor.scala:500)\n",
      "\tat java.util.concurrent.ThreadPoolExecutor.runWorker(ThreadPoolExecutor.java:1149)\n",
      "\tat java.util.concurrent.ThreadPoolExecutor$Worker.run(ThreadPoolExecutor.java:624)\n",
      "\tat java.lang.Thread.run(Thread.java:748)\n",
      "\n",
      "2024-09-15 14:28:19,964 ERROR scheduler.TaskSetManager: Task 0 in stage 23.0 failed 1 times; aborting job\n"
     ]
    },
    {
     "ename": "Py4JJavaError",
     "evalue": "An error occurred while calling o120.showString.\n: org.apache.spark.SparkException: Job aborted due to stage failure: Task 0 in stage 23.0 failed 1 times, most recent failure: Lost task 0.0 in stage 23.0 (TID 870) (10.0.2.15 executor driver): org.apache.spark.api.python.PythonException: Traceback (most recent call last):\n  File \"/usr/local/spark3/spark-3.1.2-bin-hadoop3.2/python/lib/pyspark.zip/pyspark/worker.py\", line 477, in main\n    (\"%d.%d\" % sys.version_info[:2], version))\nException: Python in worker has different version 3.6 than that in driver 3.8, PySpark cannot run with different minor versions. Please check environment variables PYSPARK_PYTHON and PYSPARK_DRIVER_PYTHON are correctly set.\n\n\tat org.apache.spark.api.python.BasePythonRunner$ReaderIterator.handlePythonException(PythonRunner.scala:517)\n\tat org.apache.spark.api.python.PythonRunner$$anon$3.read(PythonRunner.scala:652)\n\tat org.apache.spark.api.python.PythonRunner$$anon$3.read(PythonRunner.scala:635)\n\tat org.apache.spark.api.python.BasePythonRunner$ReaderIterator.hasNext(PythonRunner.scala:470)\n\tat org.apache.spark.InterruptibleIterator.hasNext(InterruptibleIterator.scala:37)\n\tat scala.collection.Iterator$$anon$11.hasNext(Iterator.scala:489)\n\tat scala.collection.Iterator$$anon$10.hasNext(Iterator.scala:458)\n\tat scala.collection.Iterator$$anon$10.hasNext(Iterator.scala:458)\n\tat org.apache.spark.sql.catalyst.expressions.GeneratedClass$GeneratedIteratorForCodegenStage1.processNext(Unknown Source)\n\tat org.apache.spark.sql.execution.BufferedRowIterator.hasNext(BufferedRowIterator.java:43)\n\tat org.apache.spark.sql.execution.WholeStageCodegenExec$$anon$1.hasNext(WholeStageCodegenExec.scala:755)\n\tat org.apache.spark.sql.execution.SparkPlan.$anonfun$getByteArrayRdd$1(SparkPlan.scala:345)\n\tat org.apache.spark.rdd.RDD.$anonfun$mapPartitionsInternal$2(RDD.scala:898)\n\tat org.apache.spark.rdd.RDD.$anonfun$mapPartitionsInternal$2$adapted(RDD.scala:898)\n\tat org.apache.spark.rdd.MapPartitionsRDD.compute(MapPartitionsRDD.scala:52)\n\tat org.apache.spark.rdd.RDD.computeOrReadCheckpoint(RDD.scala:373)\n\tat org.apache.spark.rdd.RDD.iterator(RDD.scala:337)\n\tat org.apache.spark.scheduler.ResultTask.runTask(ResultTask.scala:90)\n\tat org.apache.spark.scheduler.Task.run(Task.scala:131)\n\tat org.apache.spark.executor.Executor$TaskRunner.$anonfun$run$3(Executor.scala:497)\n\tat org.apache.spark.util.Utils$.tryWithSafeFinally(Utils.scala:1439)\n\tat org.apache.spark.executor.Executor$TaskRunner.run(Executor.scala:500)\n\tat java.util.concurrent.ThreadPoolExecutor.runWorker(ThreadPoolExecutor.java:1149)\n\tat java.util.concurrent.ThreadPoolExecutor$Worker.run(ThreadPoolExecutor.java:624)\n\tat java.lang.Thread.run(Thread.java:748)\n\nDriver stacktrace:\n\tat org.apache.spark.scheduler.DAGScheduler.failJobAndIndependentStages(DAGScheduler.scala:2258)\n\tat org.apache.spark.scheduler.DAGScheduler.$anonfun$abortStage$2(DAGScheduler.scala:2207)\n\tat org.apache.spark.scheduler.DAGScheduler.$anonfun$abortStage$2$adapted(DAGScheduler.scala:2206)\n\tat scala.collection.mutable.ResizableArray.foreach(ResizableArray.scala:62)\n\tat scala.collection.mutable.ResizableArray.foreach$(ResizableArray.scala:55)\n\tat scala.collection.mutable.ArrayBuffer.foreach(ArrayBuffer.scala:49)\n\tat org.apache.spark.scheduler.DAGScheduler.abortStage(DAGScheduler.scala:2206)\n\tat org.apache.spark.scheduler.DAGScheduler.$anonfun$handleTaskSetFailed$1(DAGScheduler.scala:1079)\n\tat org.apache.spark.scheduler.DAGScheduler.$anonfun$handleTaskSetFailed$1$adapted(DAGScheduler.scala:1079)\n\tat scala.Option.foreach(Option.scala:407)\n\tat org.apache.spark.scheduler.DAGScheduler.handleTaskSetFailed(DAGScheduler.scala:1079)\n\tat org.apache.spark.scheduler.DAGSchedulerEventProcessLoop.doOnReceive(DAGScheduler.scala:2445)\n\tat org.apache.spark.scheduler.DAGSchedulerEventProcessLoop.onReceive(DAGScheduler.scala:2387)\n\tat org.apache.spark.scheduler.DAGSchedulerEventProcessLoop.onReceive(DAGScheduler.scala:2376)\n\tat org.apache.spark.util.EventLoop$$anon$1.run(EventLoop.scala:49)\n\tat org.apache.spark.scheduler.DAGScheduler.runJob(DAGScheduler.scala:868)\n\tat org.apache.spark.SparkContext.runJob(SparkContext.scala:2196)\n\tat org.apache.spark.SparkContext.runJob(SparkContext.scala:2217)\n\tat org.apache.spark.SparkContext.runJob(SparkContext.scala:2236)\n\tat org.apache.spark.sql.execution.SparkPlan.executeTake(SparkPlan.scala:472)\n\tat org.apache.spark.sql.execution.SparkPlan.executeTake(SparkPlan.scala:425)\n\tat org.apache.spark.sql.execution.CollectLimitExec.executeCollect(limit.scala:47)\n\tat org.apache.spark.sql.Dataset.collectFromPlan(Dataset.scala:3696)\n\tat org.apache.spark.sql.Dataset.$anonfun$head$1(Dataset.scala:2722)\n\tat org.apache.spark.sql.Dataset.$anonfun$withAction$1(Dataset.scala:3687)\n\tat org.apache.spark.sql.execution.SQLExecution$.$anonfun$withNewExecutionId$5(SQLExecution.scala:103)\n\tat org.apache.spark.sql.execution.SQLExecution$.withSQLConfPropagated(SQLExecution.scala:163)\n\tat org.apache.spark.sql.execution.SQLExecution$.$anonfun$withNewExecutionId$1(SQLExecution.scala:90)\n\tat org.apache.spark.sql.SparkSession.withActive(SparkSession.scala:775)\n\tat org.apache.spark.sql.execution.SQLExecution$.withNewExecutionId(SQLExecution.scala:64)\n\tat org.apache.spark.sql.Dataset.withAction(Dataset.scala:3685)\n\tat org.apache.spark.sql.Dataset.head(Dataset.scala:2722)\n\tat org.apache.spark.sql.Dataset.take(Dataset.scala:2929)\n\tat org.apache.spark.sql.Dataset.getRows(Dataset.scala:301)\n\tat org.apache.spark.sql.Dataset.showString(Dataset.scala:338)\n\tat sun.reflect.NativeMethodAccessorImpl.invoke0(Native Method)\n\tat sun.reflect.NativeMethodAccessorImpl.invoke(NativeMethodAccessorImpl.java:62)\n\tat sun.reflect.DelegatingMethodAccessorImpl.invoke(DelegatingMethodAccessorImpl.java:43)\n\tat java.lang.reflect.Method.invoke(Method.java:498)\n\tat py4j.reflection.MethodInvoker.invoke(MethodInvoker.java:244)\n\tat py4j.reflection.ReflectionEngine.invoke(ReflectionEngine.java:357)\n\tat py4j.Gateway.invoke(Gateway.java:282)\n\tat py4j.commands.AbstractCommand.invokeMethod(AbstractCommand.java:132)\n\tat py4j.commands.CallCommand.execute(CallCommand.java:79)\n\tat py4j.GatewayConnection.run(GatewayConnection.java:238)\n\tat java.lang.Thread.run(Thread.java:748)\nCaused by: org.apache.spark.api.python.PythonException: Traceback (most recent call last):\n  File \"/usr/local/spark3/spark-3.1.2-bin-hadoop3.2/python/lib/pyspark.zip/pyspark/worker.py\", line 477, in main\n    (\"%d.%d\" % sys.version_info[:2], version))\nException: Python in worker has different version 3.6 than that in driver 3.8, PySpark cannot run with different minor versions. Please check environment variables PYSPARK_PYTHON and PYSPARK_DRIVER_PYTHON are correctly set.\n\n\tat org.apache.spark.api.python.BasePythonRunner$ReaderIterator.handlePythonException(PythonRunner.scala:517)\n\tat org.apache.spark.api.python.PythonRunner$$anon$3.read(PythonRunner.scala:652)\n\tat org.apache.spark.api.python.PythonRunner$$anon$3.read(PythonRunner.scala:635)\n\tat org.apache.spark.api.python.BasePythonRunner$ReaderIterator.hasNext(PythonRunner.scala:470)\n\tat org.apache.spark.InterruptibleIterator.hasNext(InterruptibleIterator.scala:37)\n\tat scala.collection.Iterator$$anon$11.hasNext(Iterator.scala:489)\n\tat scala.collection.Iterator$$anon$10.hasNext(Iterator.scala:458)\n\tat scala.collection.Iterator$$anon$10.hasNext(Iterator.scala:458)\n\tat org.apache.spark.sql.catalyst.expressions.GeneratedClass$GeneratedIteratorForCodegenStage1.processNext(Unknown Source)\n\tat org.apache.spark.sql.execution.BufferedRowIterator.hasNext(BufferedRowIterator.java:43)\n\tat org.apache.spark.sql.execution.WholeStageCodegenExec$$anon$1.hasNext(WholeStageCodegenExec.scala:755)\n\tat org.apache.spark.sql.execution.SparkPlan.$anonfun$getByteArrayRdd$1(SparkPlan.scala:345)\n\tat org.apache.spark.rdd.RDD.$anonfun$mapPartitionsInternal$2(RDD.scala:898)\n\tat org.apache.spark.rdd.RDD.$anonfun$mapPartitionsInternal$2$adapted(RDD.scala:898)\n\tat org.apache.spark.rdd.MapPartitionsRDD.compute(MapPartitionsRDD.scala:52)\n\tat org.apache.spark.rdd.RDD.computeOrReadCheckpoint(RDD.scala:373)\n\tat org.apache.spark.rdd.RDD.iterator(RDD.scala:337)\n\tat org.apache.spark.scheduler.ResultTask.runTask(ResultTask.scala:90)\n\tat org.apache.spark.scheduler.Task.run(Task.scala:131)\n\tat org.apache.spark.executor.Executor$TaskRunner.$anonfun$run$3(Executor.scala:497)\n\tat org.apache.spark.util.Utils$.tryWithSafeFinally(Utils.scala:1439)\n\tat org.apache.spark.executor.Executor$TaskRunner.run(Executor.scala:500)\n\tat java.util.concurrent.ThreadPoolExecutor.runWorker(ThreadPoolExecutor.java:1149)\n\tat java.util.concurrent.ThreadPoolExecutor$Worker.run(ThreadPoolExecutor.java:624)\n\t... 1 more\n",
     "output_type": "error",
     "traceback": [
      "\u001b[0;31m---------------------------------------------------------------------------\u001b[0m",
      "\u001b[0;31mPy4JJavaError\u001b[0m                             Traceback (most recent call last)",
      "\u001b[0;32m/tmp/ipykernel_7885/1032586539.py\u001b[0m in \u001b[0;36m<module>\u001b[0;34m\u001b[0m\n\u001b[0;32m----> 1\u001b[0;31m \u001b[0mdf_forhive\u001b[0m\u001b[0;34m.\u001b[0m\u001b[0mshow\u001b[0m\u001b[0;34m(\u001b[0m\u001b[0;34m)\u001b[0m\u001b[0;34m\u001b[0m\u001b[0;34m\u001b[0m\u001b[0m\n\u001b[0m",
      "\u001b[0;32m/usr/local/lib/python3.8/site-packages/pyspark/sql/dataframe.py\u001b[0m in \u001b[0;36mshow\u001b[0;34m(self, n, truncate, vertical)\u001b[0m\n\u001b[1;32m    482\u001b[0m         \"\"\"\n\u001b[1;32m    483\u001b[0m         \u001b[0;32mif\u001b[0m \u001b[0misinstance\u001b[0m\u001b[0;34m(\u001b[0m\u001b[0mtruncate\u001b[0m\u001b[0;34m,\u001b[0m \u001b[0mbool\u001b[0m\u001b[0;34m)\u001b[0m \u001b[0;32mand\u001b[0m \u001b[0mtruncate\u001b[0m\u001b[0;34m:\u001b[0m\u001b[0;34m\u001b[0m\u001b[0;34m\u001b[0m\u001b[0m\n\u001b[0;32m--> 484\u001b[0;31m             \u001b[0mprint\u001b[0m\u001b[0;34m(\u001b[0m\u001b[0mself\u001b[0m\u001b[0;34m.\u001b[0m\u001b[0m_jdf\u001b[0m\u001b[0;34m.\u001b[0m\u001b[0mshowString\u001b[0m\u001b[0;34m(\u001b[0m\u001b[0mn\u001b[0m\u001b[0;34m,\u001b[0m \u001b[0;36m20\u001b[0m\u001b[0;34m,\u001b[0m \u001b[0mvertical\u001b[0m\u001b[0;34m)\u001b[0m\u001b[0;34m)\u001b[0m\u001b[0;34m\u001b[0m\u001b[0;34m\u001b[0m\u001b[0m\n\u001b[0m\u001b[1;32m    485\u001b[0m         \u001b[0;32melse\u001b[0m\u001b[0;34m:\u001b[0m\u001b[0;34m\u001b[0m\u001b[0;34m\u001b[0m\u001b[0m\n\u001b[1;32m    486\u001b[0m             \u001b[0mprint\u001b[0m\u001b[0;34m(\u001b[0m\u001b[0mself\u001b[0m\u001b[0;34m.\u001b[0m\u001b[0m_jdf\u001b[0m\u001b[0;34m.\u001b[0m\u001b[0mshowString\u001b[0m\u001b[0;34m(\u001b[0m\u001b[0mn\u001b[0m\u001b[0;34m,\u001b[0m \u001b[0mint\u001b[0m\u001b[0;34m(\u001b[0m\u001b[0mtruncate\u001b[0m\u001b[0;34m)\u001b[0m\u001b[0;34m,\u001b[0m \u001b[0mvertical\u001b[0m\u001b[0;34m)\u001b[0m\u001b[0;34m)\u001b[0m\u001b[0;34m\u001b[0m\u001b[0;34m\u001b[0m\u001b[0m\n",
      "\u001b[0;32m/usr/local/lib/python3.8/site-packages/py4j/java_gateway.py\u001b[0m in \u001b[0;36m__call__\u001b[0;34m(self, *args)\u001b[0m\n\u001b[1;32m   1302\u001b[0m \u001b[0;34m\u001b[0m\u001b[0m\n\u001b[1;32m   1303\u001b[0m         \u001b[0manswer\u001b[0m \u001b[0;34m=\u001b[0m \u001b[0mself\u001b[0m\u001b[0;34m.\u001b[0m\u001b[0mgateway_client\u001b[0m\u001b[0;34m.\u001b[0m\u001b[0msend_command\u001b[0m\u001b[0;34m(\u001b[0m\u001b[0mcommand\u001b[0m\u001b[0;34m)\u001b[0m\u001b[0;34m\u001b[0m\u001b[0;34m\u001b[0m\u001b[0m\n\u001b[0;32m-> 1304\u001b[0;31m         return_value = get_return_value(\n\u001b[0m\u001b[1;32m   1305\u001b[0m             answer, self.gateway_client, self.target_id, self.name)\n\u001b[1;32m   1306\u001b[0m \u001b[0;34m\u001b[0m\u001b[0m\n",
      "\u001b[0;32m/usr/local/lib/python3.8/site-packages/pyspark/sql/utils.py\u001b[0m in \u001b[0;36mdeco\u001b[0;34m(*a, **kw)\u001b[0m\n\u001b[1;32m    109\u001b[0m     \u001b[0;32mdef\u001b[0m \u001b[0mdeco\u001b[0m\u001b[0;34m(\u001b[0m\u001b[0;34m*\u001b[0m\u001b[0ma\u001b[0m\u001b[0;34m,\u001b[0m \u001b[0;34m**\u001b[0m\u001b[0mkw\u001b[0m\u001b[0;34m)\u001b[0m\u001b[0;34m:\u001b[0m\u001b[0;34m\u001b[0m\u001b[0;34m\u001b[0m\u001b[0m\n\u001b[1;32m    110\u001b[0m         \u001b[0;32mtry\u001b[0m\u001b[0;34m:\u001b[0m\u001b[0;34m\u001b[0m\u001b[0;34m\u001b[0m\u001b[0m\n\u001b[0;32m--> 111\u001b[0;31m             \u001b[0;32mreturn\u001b[0m \u001b[0mf\u001b[0m\u001b[0;34m(\u001b[0m\u001b[0;34m*\u001b[0m\u001b[0ma\u001b[0m\u001b[0;34m,\u001b[0m \u001b[0;34m**\u001b[0m\u001b[0mkw\u001b[0m\u001b[0;34m)\u001b[0m\u001b[0;34m\u001b[0m\u001b[0;34m\u001b[0m\u001b[0m\n\u001b[0m\u001b[1;32m    112\u001b[0m         \u001b[0;32mexcept\u001b[0m \u001b[0mpy4j\u001b[0m\u001b[0;34m.\u001b[0m\u001b[0mprotocol\u001b[0m\u001b[0;34m.\u001b[0m\u001b[0mPy4JJavaError\u001b[0m \u001b[0;32mas\u001b[0m \u001b[0me\u001b[0m\u001b[0;34m:\u001b[0m\u001b[0;34m\u001b[0m\u001b[0;34m\u001b[0m\u001b[0m\n\u001b[1;32m    113\u001b[0m             \u001b[0mconverted\u001b[0m \u001b[0;34m=\u001b[0m \u001b[0mconvert_exception\u001b[0m\u001b[0;34m(\u001b[0m\u001b[0me\u001b[0m\u001b[0;34m.\u001b[0m\u001b[0mjava_exception\u001b[0m\u001b[0;34m)\u001b[0m\u001b[0;34m\u001b[0m\u001b[0;34m\u001b[0m\u001b[0m\n",
      "\u001b[0;32m/usr/local/lib/python3.8/site-packages/py4j/protocol.py\u001b[0m in \u001b[0;36mget_return_value\u001b[0;34m(answer, gateway_client, target_id, name)\u001b[0m\n\u001b[1;32m    324\u001b[0m             \u001b[0mvalue\u001b[0m \u001b[0;34m=\u001b[0m \u001b[0mOUTPUT_CONVERTER\u001b[0m\u001b[0;34m[\u001b[0m\u001b[0mtype\u001b[0m\u001b[0;34m]\u001b[0m\u001b[0;34m(\u001b[0m\u001b[0manswer\u001b[0m\u001b[0;34m[\u001b[0m\u001b[0;36m2\u001b[0m\u001b[0;34m:\u001b[0m\u001b[0;34m]\u001b[0m\u001b[0;34m,\u001b[0m \u001b[0mgateway_client\u001b[0m\u001b[0;34m)\u001b[0m\u001b[0;34m\u001b[0m\u001b[0;34m\u001b[0m\u001b[0m\n\u001b[1;32m    325\u001b[0m             \u001b[0;32mif\u001b[0m \u001b[0manswer\u001b[0m\u001b[0;34m[\u001b[0m\u001b[0;36m1\u001b[0m\u001b[0;34m]\u001b[0m \u001b[0;34m==\u001b[0m \u001b[0mREFERENCE_TYPE\u001b[0m\u001b[0;34m:\u001b[0m\u001b[0;34m\u001b[0m\u001b[0;34m\u001b[0m\u001b[0m\n\u001b[0;32m--> 326\u001b[0;31m                 raise Py4JJavaError(\n\u001b[0m\u001b[1;32m    327\u001b[0m                     \u001b[0;34m\"An error occurred while calling {0}{1}{2}.\\n\"\u001b[0m\u001b[0;34m.\u001b[0m\u001b[0;34m\u001b[0m\u001b[0;34m\u001b[0m\u001b[0m\n\u001b[1;32m    328\u001b[0m                     format(target_id, \".\", name), value)\n",
      "\u001b[0;31mPy4JJavaError\u001b[0m: An error occurred while calling o120.showString.\n: org.apache.spark.SparkException: Job aborted due to stage failure: Task 0 in stage 23.0 failed 1 times, most recent failure: Lost task 0.0 in stage 23.0 (TID 870) (10.0.2.15 executor driver): org.apache.spark.api.python.PythonException: Traceback (most recent call last):\n  File \"/usr/local/spark3/spark-3.1.2-bin-hadoop3.2/python/lib/pyspark.zip/pyspark/worker.py\", line 477, in main\n    (\"%d.%d\" % sys.version_info[:2], version))\nException: Python in worker has different version 3.6 than that in driver 3.8, PySpark cannot run with different minor versions. Please check environment variables PYSPARK_PYTHON and PYSPARK_DRIVER_PYTHON are correctly set.\n\n\tat org.apache.spark.api.python.BasePythonRunner$ReaderIterator.handlePythonException(PythonRunner.scala:517)\n\tat org.apache.spark.api.python.PythonRunner$$anon$3.read(PythonRunner.scala:652)\n\tat org.apache.spark.api.python.PythonRunner$$anon$3.read(PythonRunner.scala:635)\n\tat org.apache.spark.api.python.BasePythonRunner$ReaderIterator.hasNext(PythonRunner.scala:470)\n\tat org.apache.spark.InterruptibleIterator.hasNext(InterruptibleIterator.scala:37)\n\tat scala.collection.Iterator$$anon$11.hasNext(Iterator.scala:489)\n\tat scala.collection.Iterator$$anon$10.hasNext(Iterator.scala:458)\n\tat scala.collection.Iterator$$anon$10.hasNext(Iterator.scala:458)\n\tat org.apache.spark.sql.catalyst.expressions.GeneratedClass$GeneratedIteratorForCodegenStage1.processNext(Unknown Source)\n\tat org.apache.spark.sql.execution.BufferedRowIterator.hasNext(BufferedRowIterator.java:43)\n\tat org.apache.spark.sql.execution.WholeStageCodegenExec$$anon$1.hasNext(WholeStageCodegenExec.scala:755)\n\tat org.apache.spark.sql.execution.SparkPlan.$anonfun$getByteArrayRdd$1(SparkPlan.scala:345)\n\tat org.apache.spark.rdd.RDD.$anonfun$mapPartitionsInternal$2(RDD.scala:898)\n\tat org.apache.spark.rdd.RDD.$anonfun$mapPartitionsInternal$2$adapted(RDD.scala:898)\n\tat org.apache.spark.rdd.MapPartitionsRDD.compute(MapPartitionsRDD.scala:52)\n\tat org.apache.spark.rdd.RDD.computeOrReadCheckpoint(RDD.scala:373)\n\tat org.apache.spark.rdd.RDD.iterator(RDD.scala:337)\n\tat org.apache.spark.scheduler.ResultTask.runTask(ResultTask.scala:90)\n\tat org.apache.spark.scheduler.Task.run(Task.scala:131)\n\tat org.apache.spark.executor.Executor$TaskRunner.$anonfun$run$3(Executor.scala:497)\n\tat org.apache.spark.util.Utils$.tryWithSafeFinally(Utils.scala:1439)\n\tat org.apache.spark.executor.Executor$TaskRunner.run(Executor.scala:500)\n\tat java.util.concurrent.ThreadPoolExecutor.runWorker(ThreadPoolExecutor.java:1149)\n\tat java.util.concurrent.ThreadPoolExecutor$Worker.run(ThreadPoolExecutor.java:624)\n\tat java.lang.Thread.run(Thread.java:748)\n\nDriver stacktrace:\n\tat org.apache.spark.scheduler.DAGScheduler.failJobAndIndependentStages(DAGScheduler.scala:2258)\n\tat org.apache.spark.scheduler.DAGScheduler.$anonfun$abortStage$2(DAGScheduler.scala:2207)\n\tat org.apache.spark.scheduler.DAGScheduler.$anonfun$abortStage$2$adapted(DAGScheduler.scala:2206)\n\tat scala.collection.mutable.ResizableArray.foreach(ResizableArray.scala:62)\n\tat scala.collection.mutable.ResizableArray.foreach$(ResizableArray.scala:55)\n\tat scala.collection.mutable.ArrayBuffer.foreach(ArrayBuffer.scala:49)\n\tat org.apache.spark.scheduler.DAGScheduler.abortStage(DAGScheduler.scala:2206)\n\tat org.apache.spark.scheduler.DAGScheduler.$anonfun$handleTaskSetFailed$1(DAGScheduler.scala:1079)\n\tat org.apache.spark.scheduler.DAGScheduler.$anonfun$handleTaskSetFailed$1$adapted(DAGScheduler.scala:1079)\n\tat scala.Option.foreach(Option.scala:407)\n\tat org.apache.spark.scheduler.DAGScheduler.handleTaskSetFailed(DAGScheduler.scala:1079)\n\tat org.apache.spark.scheduler.DAGSchedulerEventProcessLoop.doOnReceive(DAGScheduler.scala:2445)\n\tat org.apache.spark.scheduler.DAGSchedulerEventProcessLoop.onReceive(DAGScheduler.scala:2387)\n\tat org.apache.spark.scheduler.DAGSchedulerEventProcessLoop.onReceive(DAGScheduler.scala:2376)\n\tat org.apache.spark.util.EventLoop$$anon$1.run(EventLoop.scala:49)\n\tat org.apache.spark.scheduler.DAGScheduler.runJob(DAGScheduler.scala:868)\n\tat org.apache.spark.SparkContext.runJob(SparkContext.scala:2196)\n\tat org.apache.spark.SparkContext.runJob(SparkContext.scala:2217)\n\tat org.apache.spark.SparkContext.runJob(SparkContext.scala:2236)\n\tat org.apache.spark.sql.execution.SparkPlan.executeTake(SparkPlan.scala:472)\n\tat org.apache.spark.sql.execution.SparkPlan.executeTake(SparkPlan.scala:425)\n\tat org.apache.spark.sql.execution.CollectLimitExec.executeCollect(limit.scala:47)\n\tat org.apache.spark.sql.Dataset.collectFromPlan(Dataset.scala:3696)\n\tat org.apache.spark.sql.Dataset.$anonfun$head$1(Dataset.scala:2722)\n\tat org.apache.spark.sql.Dataset.$anonfun$withAction$1(Dataset.scala:3687)\n\tat org.apache.spark.sql.execution.SQLExecution$.$anonfun$withNewExecutionId$5(SQLExecution.scala:103)\n\tat org.apache.spark.sql.execution.SQLExecution$.withSQLConfPropagated(SQLExecution.scala:163)\n\tat org.apache.spark.sql.execution.SQLExecution$.$anonfun$withNewExecutionId$1(SQLExecution.scala:90)\n\tat org.apache.spark.sql.SparkSession.withActive(SparkSession.scala:775)\n\tat org.apache.spark.sql.execution.SQLExecution$.withNewExecutionId(SQLExecution.scala:64)\n\tat org.apache.spark.sql.Dataset.withAction(Dataset.scala:3685)\n\tat org.apache.spark.sql.Dataset.head(Dataset.scala:2722)\n\tat org.apache.spark.sql.Dataset.take(Dataset.scala:2929)\n\tat org.apache.spark.sql.Dataset.getRows(Dataset.scala:301)\n\tat org.apache.spark.sql.Dataset.showString(Dataset.scala:338)\n\tat sun.reflect.NativeMethodAccessorImpl.invoke0(Native Method)\n\tat sun.reflect.NativeMethodAccessorImpl.invoke(NativeMethodAccessorImpl.java:62)\n\tat sun.reflect.DelegatingMethodAccessorImpl.invoke(DelegatingMethodAccessorImpl.java:43)\n\tat java.lang.reflect.Method.invoke(Method.java:498)\n\tat py4j.reflection.MethodInvoker.invoke(MethodInvoker.java:244)\n\tat py4j.reflection.ReflectionEngine.invoke(ReflectionEngine.java:357)\n\tat py4j.Gateway.invoke(Gateway.java:282)\n\tat py4j.commands.AbstractCommand.invokeMethod(AbstractCommand.java:132)\n\tat py4j.commands.CallCommand.execute(CallCommand.java:79)\n\tat py4j.GatewayConnection.run(GatewayConnection.java:238)\n\tat java.lang.Thread.run(Thread.java:748)\nCaused by: org.apache.spark.api.python.PythonException: Traceback (most recent call last):\n  File \"/usr/local/spark3/spark-3.1.2-bin-hadoop3.2/python/lib/pyspark.zip/pyspark/worker.py\", line 477, in main\n    (\"%d.%d\" % sys.version_info[:2], version))\nException: Python in worker has different version 3.6 than that in driver 3.8, PySpark cannot run with different minor versions. Please check environment variables PYSPARK_PYTHON and PYSPARK_DRIVER_PYTHON are correctly set.\n\n\tat org.apache.spark.api.python.BasePythonRunner$ReaderIterator.handlePythonException(PythonRunner.scala:517)\n\tat org.apache.spark.api.python.PythonRunner$$anon$3.read(PythonRunner.scala:652)\n\tat org.apache.spark.api.python.PythonRunner$$anon$3.read(PythonRunner.scala:635)\n\tat org.apache.spark.api.python.BasePythonRunner$ReaderIterator.hasNext(PythonRunner.scala:470)\n\tat org.apache.spark.InterruptibleIterator.hasNext(InterruptibleIterator.scala:37)\n\tat scala.collection.Iterator$$anon$11.hasNext(Iterator.scala:489)\n\tat scala.collection.Iterator$$anon$10.hasNext(Iterator.scala:458)\n\tat scala.collection.Iterator$$anon$10.hasNext(Iterator.scala:458)\n\tat org.apache.spark.sql.catalyst.expressions.GeneratedClass$GeneratedIteratorForCodegenStage1.processNext(Unknown Source)\n\tat org.apache.spark.sql.execution.BufferedRowIterator.hasNext(BufferedRowIterator.java:43)\n\tat org.apache.spark.sql.execution.WholeStageCodegenExec$$anon$1.hasNext(WholeStageCodegenExec.scala:755)\n\tat org.apache.spark.sql.execution.SparkPlan.$anonfun$getByteArrayRdd$1(SparkPlan.scala:345)\n\tat org.apache.spark.rdd.RDD.$anonfun$mapPartitionsInternal$2(RDD.scala:898)\n\tat org.apache.spark.rdd.RDD.$anonfun$mapPartitionsInternal$2$adapted(RDD.scala:898)\n\tat org.apache.spark.rdd.MapPartitionsRDD.compute(MapPartitionsRDD.scala:52)\n\tat org.apache.spark.rdd.RDD.computeOrReadCheckpoint(RDD.scala:373)\n\tat org.apache.spark.rdd.RDD.iterator(RDD.scala:337)\n\tat org.apache.spark.scheduler.ResultTask.runTask(ResultTask.scala:90)\n\tat org.apache.spark.scheduler.Task.run(Task.scala:131)\n\tat org.apache.spark.executor.Executor$TaskRunner.$anonfun$run$3(Executor.scala:497)\n\tat org.apache.spark.util.Utils$.tryWithSafeFinally(Utils.scala:1439)\n\tat org.apache.spark.executor.Executor$TaskRunner.run(Executor.scala:500)\n\tat java.util.concurrent.ThreadPoolExecutor.runWorker(ThreadPoolExecutor.java:1149)\n\tat java.util.concurrent.ThreadPoolExecutor$Worker.run(ThreadPoolExecutor.java:624)\n\t... 1 more\n"
     ]
    }
   ],
   "source": [
    "df_forhive.show()"
   ]
  },
  {
   "cell_type": "markdown",
   "id": "8a59b6e6",
   "metadata": {},
   "source": [
    "## As we have already created database in hive, we will be using the database named 'my_databasemtb'"
   ]
  },
  {
   "cell_type": "code",
   "execution_count": 32,
   "id": "f5b3d03f",
   "metadata": {},
   "outputs": [
    {
     "name": "stdout",
     "output_type": "stream",
     "text": [
      "root\n",
      " |-- last_updated_by: string (nullable = true)\n",
      " |-- enrollment_date: string (nullable = true)\n",
      " |-- organisation_unit_name: string (nullable = true)\n",
      " |-- organisation_unit_name_hierarchy: string (nullable = true)\n",
      " |-- organisation_unit_code: string (nullable = true)\n",
      " |-- organisation_unit: string (nullable = true)\n",
      " |-- ward_number: integer (nullable = true)\n",
      " |-- district: string (nullable = true)\n",
      " |-- sex: string (nullable = true)\n",
      " |-- genexpert_test_result: string (nullable = true)\n",
      " |-- municipality: string (nullable = true)\n",
      " |-- patient_id: integer (nullable = true)\n",
      " |-- age: string (nullable = true)\n",
      "\n"
     ]
    }
   ],
   "source": [
    "df1_filtered2.printSchema()"
   ]
  },
  {
   "cell_type": "code",
   "execution_count": 33,
   "id": "cb140f6f",
   "metadata": {},
   "outputs": [],
   "source": [
    "#spark.sql(\"DROP DATABASE IF EXISTS mtb_database CASCADE\")"
   ]
  },
  {
   "cell_type": "code",
   "execution_count": null,
   "id": "84f1aac1",
   "metadata": {},
   "outputs": [],
   "source": []
  },
  {
   "cell_type": "code",
   "execution_count": 34,
   "id": "691925f2",
   "metadata": {},
   "outputs": [
    {
     "name": "stderr",
     "output_type": "stream",
     "text": [
      "2024-09-15 14:28:25,027 WARN conf.HiveConf: HiveConf of name hive.stats.jdbc.timeout does not exist\n",
      "2024-09-15 14:28:25,029 WARN conf.HiveConf: HiveConf of name hive.stats.retries.wait does not exist\n",
      "2024-09-15 14:28:27,229 WARN metastore.ObjectStore: Failed to get database global_temp, returning NoSuchObjectException\n"
     ]
    },
    {
     "data": {
      "text/plain": [
       "DataFrame[]"
      ]
     },
     "execution_count": 34,
     "metadata": {},
     "output_type": "execute_result"
    }
   ],
   "source": [
    "# Create the Hive database if it doesn't exist\n",
    "# spark.sql(\"CREATE DATABASE IF NOT EXISTS my_database\")\n",
    "spark.sql(\"USE my_databasemtb\")"
   ]
  },
  {
   "cell_type": "markdown",
   "id": "87418e5f",
   "metadata": {},
   "source": [
    "## Creating table in that database or if table exists, we drop it and create new table"
   ]
  },
  {
   "cell_type": "code",
   "execution_count": 35,
   "id": "82434591",
   "metadata": {},
   "outputs": [
    {
     "data": {
      "text/plain": [
       "DataFrame[]"
      ]
     },
     "execution_count": 35,
     "metadata": {},
     "output_type": "execute_result"
    }
   ],
   "source": [
    "spark.sql(\"DROP TABLE IF EXISTS my_databasemtb.mtb_table\")"
   ]
  },
  {
   "cell_type": "code",
   "execution_count": 36,
   "id": "ca0a7a46",
   "metadata": {
    "scrolled": true
   },
   "outputs": [
    {
     "name": "stderr",
     "output_type": "stream",
     "text": [
      "2024-09-15 14:28:31,102 WARN session.SessionState: METASTORE_FILTER_HOOK will be ignored, since hive.security.authorization.manager is set to instance of HiveAuthorizerFactory.\n",
      "2024-09-15 14:28:31,186 WARN conf.HiveConf: HiveConf of name hive.internal.ss.authz.settings.applied.marker does not exist\n",
      "2024-09-15 14:28:31,186 WARN conf.HiveConf: HiveConf of name hive.stats.jdbc.timeout does not exist\n",
      "2024-09-15 14:28:31,187 WARN conf.HiveConf: HiveConf of name hive.stats.retries.wait does not exist\n"
     ]
    }
   ],
   "source": [
    "# df_forhive.write.mode(\"overwrite\").option(\"path\", \"hdfs://localhost:9000/user/hive/warehouse/my_databasemtb.db/mtb_table\").saveAsTable(\"my_databasemtb.mtb_table\")\n",
    "df1_filtered2.write.mode(\"overwrite\").saveAsTable(\"my_databasemtb.mtb_table\")"
   ]
  },
  {
   "cell_type": "markdown",
   "id": "9ee16d3e",
   "metadata": {},
   "source": [
    "## Showing tables in the database"
   ]
  },
  {
   "cell_type": "code",
   "execution_count": 37,
   "id": "a86bb786",
   "metadata": {},
   "outputs": [
    {
     "name": "stdout",
     "output_type": "stream",
     "text": [
      "+--------------+---------+-----------+\n",
      "|      database|tableName|isTemporary|\n",
      "+--------------+---------+-----------+\n",
      "|my_databasemtb|mtb_table|      false|\n",
      "+--------------+---------+-----------+\n",
      "\n"
     ]
    }
   ],
   "source": [
    "spark.sql(\"SHOW TABLES IN my_databasemtb\").show()"
   ]
  },
  {
   "cell_type": "code",
   "execution_count": 38,
   "id": "09c42dd9",
   "metadata": {},
   "outputs": [
    {
     "name": "stdout",
     "output_type": "stream",
     "text": [
      "+--------------------+--------------------+----------------------+--------------------------------+----------------------+-----------------+-----------+----------+------+---------------------+--------------------+----------+--------+\n",
      "|     last_updated_by|     enrollment_date|organisation_unit_name|organisation_unit_name_hierarchy|organisation_unit_code|organisation_unit|ward_number|  district|   sex|genexpert_test_result|        municipality|patient_id|     age|\n",
      "+--------------------+--------------------+----------------------+--------------------------------+----------------------+-----------------+-----------+----------+------+---------------------+--------------------+----------+--------+\n",
      "|PIPARA SIMARA PHC...|2022-01-02 00:00:...|  JEETPUR SIMARA HO...|            Nepal / 2 Madhesh...|                 11045|      lCbbjLpwRA5|         15|      BARA|Female| Rif Resistance NO...|20703 Jitpur Sima...|   3156371|     65+|\n",
      "|INARUWA HOSPITAL_...|2022-01-02 00:00:...|  INARUWA HOSPITAL_...|            Nepal / 1 Koshi P...|                 15390|      u11K0KqXoo4|          8|   SUNSARI|Female|     MTB NOT DETECTED|11303 Koshi Rural...|   8808222|55 to 64|\n",
      "|Tuberculosis Trea...|2022-04-22 00:00:...|  TUBERCULOSIS TREA...|            Nepal / 4 Gandaki...|                 15903|      gC0JprggWan|          8|     KASKI|Female|     MTB NOT DETECTED|40504 Pokhara Met...|   2547305|35 to 44|\n",
      "|DISTRICT HOSPITAL...|2022-01-01 00:00:...|  DISTRICT HOSPITAL...|            Nepal / 7 Sudurpa...|                 11854|      xQ9yCoUNMvb|          7|      DOTI|Female|     MTB NOT DETECTED|30505 Kispang Rur...|   5743322|45 to 54|\n",
      "|RAUTAHAT GX 077, ...|2022-01-02 00:00:...|  INSTITUNIONAL CLI...|            Nepal / 2 Madhesh...|                 14519|      mXe1l6Fapjg|          9|  RAUTAHAT|Female|     MTB NOT DETECTED|20608 Garuda Muni...|    396566|25 to 34|\n",
      "|GENEXPERT LAB, LU...|2022-01-02 00:00:...|  LUMBINI PROVINCIA...|            Nepal / 5 Lumbini...|                 14682|      pKR0mkabc8U|          3| RUPANDEHI|  Male|     MTB NOT DETECTED|50804 Kanchan Rur...|   3159521|15 to 24|\n",
      "|INARUWA HOSPITAL_...|2022-01-01 00:00:...|  INARUWA HOSPITAL_...|            Nepal / 1 Koshi P...|                 15390|      u11K0KqXoo4|          8|   SUNSARI|  Male|     MTB NOT DETECTED|11303 Koshi Rural...|   2057563|55 to 64|\n",
      "|RAUTAHAT GX 077, ...|2022-01-02 00:00:...|  INSTITUNIONAL CLI...|            Nepal / 2 Madhesh...|                 14519|      mXe1l6Fapjg|          9|  RAUTAHAT|  Male|     MTB NOT DETECTED|20608 Garuda Muni...|   4392908|     65+|\n",
      "|RAUTAHAT GX 077, ...|2022-01-02 00:00:...|  INSTITUNIONAL CLI...|            Nepal / 2 Madhesh...|                 14519|      mXe1l6Fapjg|          9|  RAUTAHAT|  Male|     MTB NOT DETECTED|20608 Garuda Muni...|   5626874|     65+|\n",
      "|GENEXPERT LAB, LU...|2022-02-16 00:00:...|  LUMBINI PROVINCIA...|            Nepal / 5 Lumbini...|                 14682|      pKR0mkabc8U|          6| RUPANDEHI|  Male|     MTB NOT DETECTED|50803 Sainamaina ...|   6689842|     65+|\n",
      "|GENEXPERT LAB, LU...|2022-01-02 00:00:...|  LUMBINI PROVINCIA...|            Nepal / 5 Lumbini...|                 14682|      pKR0mkabc8U|          4| RUPANDEHI|Female|     MTB NOT DETECTED|50804 Kanchan Rur...|    510140|55 to 64|\n",
      "|PIPARA SIMARA PHC...|2022-01-02 00:00:...|  JEETPUR SIMARA HO...|            Nepal / 2 Madhesh...|                 11045|      lCbbjLpwRA5|          5|      BARA|  Male|     MTB NOT DETECTED|20706 Bishrampur ...|   7217047|     65+|\n",
      "|GENEXPERT LAB, LU...|2022-02-16 00:00:...|  LUMBINI PROVINCIA...|            Nepal / 5 Lumbini...|                 14682|      pKR0mkabc8U|          2| RUPANDEHI|Female|     MTB NOT DETECTED|50808 Tilottama M...|   1491049|     65+|\n",
      "|DISTRICT HOSPITAL...|2022-01-02 00:00:...|  DISTRICT HOSPITAL...|            Nepal / 5 Lumbini...|                 14324|      k2gEfAppdDa|          4|   PYUTHAN|  Male| Rif Resistance NO...|50304 Pyuthan Mun...|    161046|     65+|\n",
      "|Makawanpur, Healt...|2022-01-02 00:00:...|  HETAUDA HOSPITAL_...|            Nepal / 3 Bagmati...|                 13593|      FfqjUkvHaq2|          5| MAKWANPUR|  Male|     MTB NOT DETECTED|31205 Manahari Ru...|   7067379|45 to 54|\n",
      "|Makawanpur, Healt...|2022-01-02 00:00:...|  HETAUDA HOSPITAL_...|            Nepal / 3 Bagmati...|                 13593|      FfqjUkvHaq2|          1| MAKWANPUR|  Male|     MTB NOT DETECTED|31206 Hetauda Sub...|   9394599|45 to 54|\n",
      "|INARUWA HOSPITAL_...|2022-01-02 00:00:...|  INARUWA HOSPITAL_...|            Nepal / 1 Koshi P...|                 15390|      u11K0KqXoo4|          6|   SUNSARI|Female|     MTB NOT DETECTED|11309 Inaruwa Mun...|   5511758|35 to 44|\n",
      "|GENEXPERT LAB, LU...|2022-01-02 00:00:...|  LUMBINI PROVINCIA...|            Nepal / 5 Lumbini...|                 14682|      pKR0mkabc8U|          8|KAPILBASTU|  Male|     MTB NOT DETECTED|50901 Banganga Mu...|   5252948|15 to 24|\n",
      "|INARUWA HOSPITAL_...|2022-01-02 00:00:...|  INARUWA HOSPITAL_...|            Nepal / 1 Koshi P...|                 15390|      u11K0KqXoo4|         18|   SUNSARI|Female|     MTB NOT DETECTED|11306 Itahari Sub...|   5348965|25 to 34|\n",
      "|PIPARA SIMARA PHC...|2022-01-02 00:00:...|  JEETPUR SIMARA HO...|            Nepal / 2 Madhesh...|                 11045|      lCbbjLpwRA5|          3|     PARSA|  Male|     MTB NOT DETECTED|20806 Parsagadhi ...|   5210801|55 to 64|\n",
      "+--------------------+--------------------+----------------------+--------------------------------+----------------------+-----------------+-----------+----------+------+---------------------+--------------------+----------+--------+\n",
      "only showing top 20 rows\n",
      "\n"
     ]
    }
   ],
   "source": [
    "spark.sql(\"SELECT * FROM my_databasemtb.mtb_table\").show()\n"
   ]
  },
  {
   "cell_type": "code",
   "execution_count": null,
   "id": "ec7a168c",
   "metadata": {},
   "outputs": [],
   "source": []
  },
  {
   "cell_type": "code",
   "execution_count": null,
   "id": "209cada1",
   "metadata": {},
   "outputs": [],
   "source": []
  },
  {
   "cell_type": "code",
   "execution_count": null,
   "id": "d8e30172",
   "metadata": {},
   "outputs": [],
   "source": []
  },
  {
   "cell_type": "code",
   "execution_count": null,
   "id": "23e54ee9",
   "metadata": {},
   "outputs": [],
   "source": []
  },
  {
   "cell_type": "code",
   "execution_count": null,
   "id": "c29f0392",
   "metadata": {},
   "outputs": [],
   "source": []
  },
  {
   "cell_type": "code",
   "execution_count": null,
   "id": "a2933d01",
   "metadata": {},
   "outputs": [],
   "source": []
  },
  {
   "cell_type": "code",
   "execution_count": null,
   "id": "a30fdceb",
   "metadata": {},
   "outputs": [],
   "source": []
  },
  {
   "cell_type": "code",
   "execution_count": null,
   "id": "359bbf81",
   "metadata": {},
   "outputs": [],
   "source": []
  },
  {
   "cell_type": "code",
   "execution_count": null,
   "id": "f892b487",
   "metadata": {},
   "outputs": [],
   "source": []
  },
  {
   "cell_type": "code",
   "execution_count": null,
   "id": "d6ac76c2",
   "metadata": {},
   "outputs": [],
   "source": []
  },
  {
   "cell_type": "code",
   "execution_count": null,
   "id": "52720158",
   "metadata": {},
   "outputs": [],
   "source": []
  },
  {
   "cell_type": "code",
   "execution_count": null,
   "id": "85c74cd5",
   "metadata": {},
   "outputs": [],
   "source": []
  },
  {
   "cell_type": "code",
   "execution_count": null,
   "id": "1ddea92d",
   "metadata": {},
   "outputs": [],
   "source": []
  },
  {
   "cell_type": "code",
   "execution_count": null,
   "id": "c131cc01",
   "metadata": {},
   "outputs": [],
   "source": []
  },
  {
   "cell_type": "code",
   "execution_count": null,
   "id": "e3dffd53",
   "metadata": {},
   "outputs": [],
   "source": []
  },
  {
   "cell_type": "code",
   "execution_count": null,
   "id": "63a6321a",
   "metadata": {},
   "outputs": [],
   "source": []
  },
  {
   "cell_type": "code",
   "execution_count": null,
   "id": "8863e87e",
   "metadata": {},
   "outputs": [],
   "source": []
  },
  {
   "cell_type": "code",
   "execution_count": null,
   "id": "a65cb1ab",
   "metadata": {},
   "outputs": [],
   "source": []
  },
  {
   "cell_type": "code",
   "execution_count": null,
   "id": "44cf18bb",
   "metadata": {},
   "outputs": [],
   "source": []
  },
  {
   "cell_type": "code",
   "execution_count": null,
   "id": "c8434f62",
   "metadata": {},
   "outputs": [],
   "source": []
  },
  {
   "cell_type": "code",
   "execution_count": null,
   "id": "dc402a50",
   "metadata": {},
   "outputs": [],
   "source": []
  },
  {
   "cell_type": "code",
   "execution_count": null,
   "id": "15603df8",
   "metadata": {},
   "outputs": [],
   "source": []
  }
 ],
 "metadata": {
  "kernelspec": {
   "display_name": "Python 3 (ipykernel)",
   "language": "python",
   "name": "python3"
  },
  "language_info": {
   "codemirror_mode": {
    "name": "ipython",
    "version": 3
   },
   "file_extension": ".py",
   "mimetype": "text/x-python",
   "name": "python",
   "nbconvert_exporter": "python",
   "pygments_lexer": "ipython3",
   "version": "3.8.11"
  }
 },
 "nbformat": 4,
 "nbformat_minor": 5
}
